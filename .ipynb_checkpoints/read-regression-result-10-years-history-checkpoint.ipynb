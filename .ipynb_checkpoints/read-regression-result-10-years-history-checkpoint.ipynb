{
 "cells": [
  {
   "cell_type": "code",
   "execution_count": 1,
   "metadata": {},
   "outputs": [
    {
     "data": {
      "text/plain": [
       "<module 'tools' from '/home/keithyamkf/jupyter-notebook/slack-trading/tools.py'>"
      ]
     },
     "execution_count": 1,
     "metadata": {},
     "output_type": "execute_result"
    }
   ],
   "source": [
    "import pandas as pd\n",
    "import numpy as np\n",
    "import datetime as dt\n",
    "import statsmodels.api as sm\n",
    "#\n",
    "from multiprocessing import cpu_count\n",
    "from joblib import Parallel\n",
    "from joblib import delayed\n",
    "\n",
    "import tools\n",
    "import importlib\n",
    "importlib.reload(tools)"
   ]
  },
  {
   "cell_type": "markdown",
   "metadata": {},
   "source": [
    "### Download data from AWS S3"
   ]
  },
  {
   "cell_type": "code",
   "execution_count": 2,
   "metadata": {},
   "outputs": [],
   "source": [
    "s3_bucket = 'slack-trading'\n",
    "local_path = '../data'\n",
    "tools.download_data_from_s3(s3_bucket, local_path)"
   ]
  },
  {
   "cell_type": "markdown",
   "metadata": {},
   "source": [
    "### CPU Count"
   ]
  },
  {
   "cell_type": "code",
   "execution_count": 3,
   "metadata": {},
   "outputs": [
    {
     "data": {
      "text/plain": [
       "4"
      ]
     },
     "execution_count": 3,
     "metadata": {},
     "output_type": "execute_result"
    }
   ],
   "source": [
    "cpu_count()"
   ]
  },
  {
   "cell_type": "markdown",
   "metadata": {},
   "source": [
    "### Begin"
   ]
  },
  {
   "cell_type": "code",
   "execution_count": 4,
   "metadata": {},
   "outputs": [
    {
     "data": {
      "text/html": [
       "<div>\n",
       "<style scoped>\n",
       "    .dataframe tbody tr th:only-of-type {\n",
       "        vertical-align: middle;\n",
       "    }\n",
       "\n",
       "    .dataframe tbody tr th {\n",
       "        vertical-align: top;\n",
       "    }\n",
       "\n",
       "    .dataframe thead th {\n",
       "        text-align: right;\n",
       "    }\n",
       "</style>\n",
       "<table border=\"1\" class=\"dataframe\">\n",
       "  <thead>\n",
       "    <tr style=\"text-align: right;\">\n",
       "      <th></th>\n",
       "      <th>0001.HK</th>\n",
       "      <th>0002.HK</th>\n",
       "      <th>0003.HK</th>\n",
       "      <th>0004.HK</th>\n",
       "      <th>0005.HK</th>\n",
       "      <th>0006.HK</th>\n",
       "      <th>0007.HK</th>\n",
       "      <th>0008.HK</th>\n",
       "      <th>0010.HK</th>\n",
       "      <th>0011.HK</th>\n",
       "      <th>...</th>\n",
       "      <th>3900.HK</th>\n",
       "      <th>3918.HK</th>\n",
       "      <th>3933.HK</th>\n",
       "      <th>3968.HK</th>\n",
       "      <th>3988.HK</th>\n",
       "      <th>3989.HK</th>\n",
       "      <th>3993.HK</th>\n",
       "      <th>3998.HK</th>\n",
       "      <th>3999.HK</th>\n",
       "      <th>6823.HK</th>\n",
       "    </tr>\n",
       "    <tr>\n",
       "      <th>Date</th>\n",
       "      <th></th>\n",
       "      <th></th>\n",
       "      <th></th>\n",
       "      <th></th>\n",
       "      <th></th>\n",
       "      <th></th>\n",
       "      <th></th>\n",
       "      <th></th>\n",
       "      <th></th>\n",
       "      <th></th>\n",
       "      <th></th>\n",
       "      <th></th>\n",
       "      <th></th>\n",
       "      <th></th>\n",
       "      <th></th>\n",
       "      <th></th>\n",
       "      <th></th>\n",
       "      <th></th>\n",
       "      <th></th>\n",
       "      <th></th>\n",
       "      <th></th>\n",
       "    </tr>\n",
       "  </thead>\n",
       "  <tbody>\n",
       "    <tr>\n",
       "      <th>2010-12-15</th>\n",
       "      <td>NaN</td>\n",
       "      <td>NaN</td>\n",
       "      <td>NaN</td>\n",
       "      <td>NaN</td>\n",
       "      <td>NaN</td>\n",
       "      <td>NaN</td>\n",
       "      <td>NaN</td>\n",
       "      <td>NaN</td>\n",
       "      <td>NaN</td>\n",
       "      <td>NaN</td>\n",
       "      <td>...</td>\n",
       "      <td>NaN</td>\n",
       "      <td>NaN</td>\n",
       "      <td>NaN</td>\n",
       "      <td>NaN</td>\n",
       "      <td>NaN</td>\n",
       "      <td>NaN</td>\n",
       "      <td>NaN</td>\n",
       "      <td>NaN</td>\n",
       "      <td>NaN</td>\n",
       "      <td>NaN</td>\n",
       "    </tr>\n",
       "    <tr>\n",
       "      <th>2010-12-16</th>\n",
       "      <td>54.239201</td>\n",
       "      <td>41.867352</td>\n",
       "      <td>5.876146</td>\n",
       "      <td>7.521868</td>\n",
       "      <td>49.719463</td>\n",
       "      <td>27.087934</td>\n",
       "      <td>0.74</td>\n",
       "      <td>1.850096</td>\n",
       "      <td>39.334167</td>\n",
       "      <td>83.144638</td>\n",
       "      <td>...</td>\n",
       "      <td>6.194169</td>\n",
       "      <td>0.968916</td>\n",
       "      <td>13.910029</td>\n",
       "      <td>13.643694</td>\n",
       "      <td>2.287869</td>\n",
       "      <td>0.42579</td>\n",
       "      <td>1.055358</td>\n",
       "      <td>2.284827</td>\n",
       "      <td>1.325954</td>\n",
       "      <td>0.248277</td>\n",
       "    </tr>\n",
       "    <tr>\n",
       "      <th>2010-12-17</th>\n",
       "      <td>54.191563</td>\n",
       "      <td>41.767746</td>\n",
       "      <td>5.939397</td>\n",
       "      <td>7.452524</td>\n",
       "      <td>49.875046</td>\n",
       "      <td>26.895233</td>\n",
       "      <td>0.72</td>\n",
       "      <td>1.855806</td>\n",
       "      <td>40.002171</td>\n",
       "      <td>84.307518</td>\n",
       "      <td>...</td>\n",
       "      <td>6.317760</td>\n",
       "      <td>0.987313</td>\n",
       "      <td>14.308971</td>\n",
       "      <td>13.491785</td>\n",
       "      <td>2.287869</td>\n",
       "      <td>0.41934</td>\n",
       "      <td>1.077474</td>\n",
       "      <td>2.271504</td>\n",
       "      <td>1.335099</td>\n",
       "      <td>0.249779</td>\n",
       "    </tr>\n",
       "  </tbody>\n",
       "</table>\n",
       "<p>3 rows × 707 columns</p>\n",
       "</div>"
      ],
      "text/plain": [
       "              0001.HK    0002.HK   0003.HK   0004.HK    0005.HK    0006.HK  \\\n",
       "Date                                                                         \n",
       "2010-12-15        NaN        NaN       NaN       NaN        NaN        NaN   \n",
       "2010-12-16  54.239201  41.867352  5.876146  7.521868  49.719463  27.087934   \n",
       "2010-12-17  54.191563  41.767746  5.939397  7.452524  49.875046  26.895233   \n",
       "\n",
       "            0007.HK   0008.HK    0010.HK    0011.HK  ...   3900.HK   3918.HK  \\\n",
       "Date                                                 ...                       \n",
       "2010-12-15      NaN       NaN        NaN        NaN  ...       NaN       NaN   \n",
       "2010-12-16     0.74  1.850096  39.334167  83.144638  ...  6.194169  0.968916   \n",
       "2010-12-17     0.72  1.855806  40.002171  84.307518  ...  6.317760  0.987313   \n",
       "\n",
       "              3933.HK    3968.HK   3988.HK  3989.HK   3993.HK   3998.HK  \\\n",
       "Date                                                                      \n",
       "2010-12-15        NaN        NaN       NaN      NaN       NaN       NaN   \n",
       "2010-12-16  13.910029  13.643694  2.287869  0.42579  1.055358  2.284827   \n",
       "2010-12-17  14.308971  13.491785  2.287869  0.41934  1.077474  2.271504   \n",
       "\n",
       "             3999.HK   6823.HK  \n",
       "Date                            \n",
       "2010-12-15       NaN       NaN  \n",
       "2010-12-16  1.325954  0.248277  \n",
       "2010-12-17  1.335099  0.249779  \n",
       "\n",
       "[3 rows x 707 columns]"
      ]
     },
     "execution_count": 4,
     "metadata": {},
     "output_type": "execute_result"
    }
   ],
   "source": [
    "# dataset = pd.read_csv('../data/all_stock_close.csv')\n",
    "dataset = pd.read_csv('../data/10yr_stock_close.csv')\n",
    "dataset['Date'] = pd.to_datetime(dataset['Date'])\n",
    "dataset.set_index('Date', drop=True, inplace=True)\n",
    "dataset.head(3)"
   ]
  },
  {
   "cell_type": "code",
   "execution_count": 5,
   "metadata": {},
   "outputs": [],
   "source": [
    "train_start = '2011-01-01'\n",
    "train_end = '2011-12-31'\n",
    "dataset = dataset[train_start:train_end]"
   ]
  },
  {
   "cell_type": "code",
   "execution_count": 6,
   "metadata": {},
   "outputs": [],
   "source": [
    "prevday_returns = np.log(dataset.shift(1)/dataset.shift(2))\n",
    "today_returns = np.log(dataset/dataset.shift(1))\n",
    "#\n",
    "stocks_prev = prevday_returns.columns.to_list()\n",
    "stocks_today = today_returns.columns.to_list()\n",
    "#\n",
    "new_col = ['{}.prev'.format(c) for c in stocks_prev]\n",
    "prevday_returns.columns = new_col\n",
    "#\n",
    "comb_df = pd.concat([prevday_returns, today_returns], axis=1)"
   ]
  },
  {
   "cell_type": "markdown",
   "metadata": {},
   "source": [
    "### Find the NaN in comb_df"
   ]
  },
  {
   "cell_type": "code",
   "execution_count": 7,
   "metadata": {},
   "outputs": [],
   "source": [
    "comb_df.dropna(axis=0, how='any', inplace=True)"
   ]
  },
  {
   "cell_type": "code",
   "execution_count": 8,
   "metadata": {},
   "outputs": [
    {
     "data": {
      "text/html": [
       "<div>\n",
       "<style scoped>\n",
       "    .dataframe tbody tr th:only-of-type {\n",
       "        vertical-align: middle;\n",
       "    }\n",
       "\n",
       "    .dataframe tbody tr th {\n",
       "        vertical-align: top;\n",
       "    }\n",
       "\n",
       "    .dataframe thead th {\n",
       "        text-align: right;\n",
       "    }\n",
       "</style>\n",
       "<table border=\"1\" class=\"dataframe\">\n",
       "  <thead>\n",
       "    <tr style=\"text-align: right;\">\n",
       "      <th></th>\n",
       "      <th>0001.HK.prev</th>\n",
       "      <th>0002.HK.prev</th>\n",
       "      <th>0003.HK.prev</th>\n",
       "      <th>0004.HK.prev</th>\n",
       "      <th>0005.HK.prev</th>\n",
       "      <th>0006.HK.prev</th>\n",
       "      <th>0007.HK.prev</th>\n",
       "      <th>0008.HK.prev</th>\n",
       "      <th>0010.HK.prev</th>\n",
       "      <th>0011.HK.prev</th>\n",
       "      <th>...</th>\n",
       "      <th>3900.HK</th>\n",
       "      <th>3918.HK</th>\n",
       "      <th>3933.HK</th>\n",
       "      <th>3968.HK</th>\n",
       "      <th>3988.HK</th>\n",
       "      <th>3989.HK</th>\n",
       "      <th>3993.HK</th>\n",
       "      <th>3998.HK</th>\n",
       "      <th>3999.HK</th>\n",
       "      <th>6823.HK</th>\n",
       "    </tr>\n",
       "    <tr>\n",
       "      <th>Date</th>\n",
       "      <th></th>\n",
       "      <th></th>\n",
       "      <th></th>\n",
       "      <th></th>\n",
       "      <th></th>\n",
       "      <th></th>\n",
       "      <th></th>\n",
       "      <th></th>\n",
       "      <th></th>\n",
       "      <th></th>\n",
       "      <th></th>\n",
       "      <th></th>\n",
       "      <th></th>\n",
       "      <th></th>\n",
       "      <th></th>\n",
       "      <th></th>\n",
       "      <th></th>\n",
       "      <th></th>\n",
       "      <th></th>\n",
       "      <th></th>\n",
       "      <th></th>\n",
       "    </tr>\n",
       "  </thead>\n",
       "  <tbody>\n",
       "    <tr>\n",
       "      <th>2011-12-22</th>\n",
       "      <td>0.021602</td>\n",
       "      <td>0.002284</td>\n",
       "      <td>0.009009</td>\n",
       "      <td>0.030860</td>\n",
       "      <td>0.024819</td>\n",
       "      <td>-0.008696</td>\n",
       "      <td>0.0</td>\n",
       "      <td>-0.007436</td>\n",
       "      <td>-0.016568</td>\n",
       "      <td>0.009241</td>\n",
       "      <td>...</td>\n",
       "      <td>0.016439</td>\n",
       "      <td>-0.005141</td>\n",
       "      <td>0.029648</td>\n",
       "      <td>0.005078</td>\n",
       "      <td>0.000000</td>\n",
       "      <td>0.018717</td>\n",
       "      <td>-0.032123</td>\n",
       "      <td>-0.017566</td>\n",
       "      <td>0.000000</td>\n",
       "      <td>-0.002221</td>\n",
       "    </tr>\n",
       "    <tr>\n",
       "      <th>2011-12-23</th>\n",
       "      <td>0.006009</td>\n",
       "      <td>0.002279</td>\n",
       "      <td>0.001120</td>\n",
       "      <td>0.020063</td>\n",
       "      <td>-0.003387</td>\n",
       "      <td>-0.007011</td>\n",
       "      <td>0.0</td>\n",
       "      <td>-0.041910</td>\n",
       "      <td>-0.004785</td>\n",
       "      <td>0.000000</td>\n",
       "      <td>...</td>\n",
       "      <td>-0.021979</td>\n",
       "      <td>0.000000</td>\n",
       "      <td>0.004484</td>\n",
       "      <td>0.022529</td>\n",
       "      <td>0.017271</td>\n",
       "      <td>0.000000</td>\n",
       "      <td>0.023465</td>\n",
       "      <td>-0.029981</td>\n",
       "      <td>0.007435</td>\n",
       "      <td>0.000000</td>\n",
       "    </tr>\n",
       "    <tr>\n",
       "      <th>2011-12-30</th>\n",
       "      <td>-0.009142</td>\n",
       "      <td>-0.000763</td>\n",
       "      <td>-0.006697</td>\n",
       "      <td>-0.004321</td>\n",
       "      <td>-0.013606</td>\n",
       "      <td>-0.008741</td>\n",
       "      <td>0.0</td>\n",
       "      <td>0.041437</td>\n",
       "      <td>0.009206</td>\n",
       "      <td>-0.003243</td>\n",
       "      <td>...</td>\n",
       "      <td>-0.002963</td>\n",
       "      <td>0.000000</td>\n",
       "      <td>0.011247</td>\n",
       "      <td>-0.002545</td>\n",
       "      <td>0.000000</td>\n",
       "      <td>0.459543</td>\n",
       "      <td>-0.017911</td>\n",
       "      <td>-0.018019</td>\n",
       "      <td>0.015268</td>\n",
       "      <td>0.013247</td>\n",
       "    </tr>\n",
       "  </tbody>\n",
       "</table>\n",
       "<p>3 rows × 1414 columns</p>\n",
       "</div>"
      ],
      "text/plain": [
       "            0001.HK.prev  0002.HK.prev  0003.HK.prev  0004.HK.prev  \\\n",
       "Date                                                                 \n",
       "2011-12-22      0.021602      0.002284      0.009009      0.030860   \n",
       "2011-12-23      0.006009      0.002279      0.001120      0.020063   \n",
       "2011-12-30     -0.009142     -0.000763     -0.006697     -0.004321   \n",
       "\n",
       "            0005.HK.prev  0006.HK.prev  0007.HK.prev  0008.HK.prev  \\\n",
       "Date                                                                 \n",
       "2011-12-22      0.024819     -0.008696           0.0     -0.007436   \n",
       "2011-12-23     -0.003387     -0.007011           0.0     -0.041910   \n",
       "2011-12-30     -0.013606     -0.008741           0.0      0.041437   \n",
       "\n",
       "            0010.HK.prev  0011.HK.prev  ...   3900.HK   3918.HK   3933.HK  \\\n",
       "Date                                    ...                                 \n",
       "2011-12-22     -0.016568      0.009241  ...  0.016439 -0.005141  0.029648   \n",
       "2011-12-23     -0.004785      0.000000  ... -0.021979  0.000000  0.004484   \n",
       "2011-12-30      0.009206     -0.003243  ... -0.002963  0.000000  0.011247   \n",
       "\n",
       "             3968.HK   3988.HK   3989.HK   3993.HK   3998.HK   3999.HK  \\\n",
       "Date                                                                     \n",
       "2011-12-22  0.005078  0.000000  0.018717 -0.032123 -0.017566  0.000000   \n",
       "2011-12-23  0.022529  0.017271  0.000000  0.023465 -0.029981  0.007435   \n",
       "2011-12-30 -0.002545  0.000000  0.459543 -0.017911 -0.018019  0.015268   \n",
       "\n",
       "             6823.HK  \n",
       "Date                  \n",
       "2011-12-22 -0.002221  \n",
       "2011-12-23  0.000000  \n",
       "2011-12-30  0.013247  \n",
       "\n",
       "[3 rows x 1414 columns]"
      ]
     },
     "execution_count": 8,
     "metadata": {},
     "output_type": "execute_result"
    }
   ],
   "source": [
    "comb_df.tail(3)"
   ]
  },
  {
   "cell_type": "code",
   "execution_count": 9,
   "metadata": {},
   "outputs": [],
   "source": [
    "prevday_returns = comb_df[new_col]\n",
    "today_returns = comb_df[stocks_today]"
   ]
  },
  {
   "cell_type": "markdown",
   "metadata": {},
   "source": [
    "### Read Regression Result"
   ]
  },
  {
   "cell_type": "code",
   "execution_count": 10,
   "metadata": {},
   "outputs": [],
   "source": [
    "result_df = pd.read_csv('../data/10yr_regression_pair.csv', index_col=0)"
   ]
  },
  {
   "cell_type": "code",
   "execution_count": 11,
   "metadata": {},
   "outputs": [
    {
     "data": {
      "text/html": [
       "<div>\n",
       "<style scoped>\n",
       "    .dataframe tbody tr th:only-of-type {\n",
       "        vertical-align: middle;\n",
       "    }\n",
       "\n",
       "    .dataframe tbody tr th {\n",
       "        vertical-align: top;\n",
       "    }\n",
       "\n",
       "    .dataframe thead th {\n",
       "        text-align: right;\n",
       "    }\n",
       "</style>\n",
       "<table border=\"1\" class=\"dataframe\">\n",
       "  <thead>\n",
       "    <tr style=\"text-align: right;\">\n",
       "      <th></th>\n",
       "      <th>Prev</th>\n",
       "      <th>Today</th>\n",
       "      <th>Params</th>\n",
       "      <th>TValues</th>\n",
       "      <th>RSquared</th>\n",
       "    </tr>\n",
       "  </thead>\n",
       "  <tbody>\n",
       "    <tr>\n",
       "      <th>147377</th>\n",
       "      <td>0383.HK.prev</td>\n",
       "      <td>1221.HK</td>\n",
       "      <td>0.006750</td>\n",
       "      <td>223.516709</td>\n",
       "      <td>0.999580</td>\n",
       "    </tr>\n",
       "    <tr>\n",
       "      <th>81397</th>\n",
       "      <td>0212.HK.prev</td>\n",
       "      <td>0383.HK</td>\n",
       "      <td>32.157624</td>\n",
       "      <td>15.107274</td>\n",
       "      <td>0.915740</td>\n",
       "    </tr>\n",
       "    <tr>\n",
       "      <th>290374</th>\n",
       "      <td>0898.HK.prev</td>\n",
       "      <td>0383.HK</td>\n",
       "      <td>8.059397</td>\n",
       "      <td>10.913853</td>\n",
       "      <td>0.850120</td>\n",
       "    </tr>\n",
       "    <tr>\n",
       "      <th>165148</th>\n",
       "      <td>0451.HK.prev</td>\n",
       "      <td>2728.HK</td>\n",
       "      <td>1.832097</td>\n",
       "      <td>10.515187</td>\n",
       "      <td>0.840388</td>\n",
       "    </tr>\n",
       "    <tr>\n",
       "      <th>109725</th>\n",
       "      <td>0278.HK.prev</td>\n",
       "      <td>0610.HK</td>\n",
       "      <td>-1.463381</td>\n",
       "      <td>10.488873</td>\n",
       "      <td>0.839715</td>\n",
       "    </tr>\n",
       "    <tr>\n",
       "      <th>396362</th>\n",
       "      <td>1639.HK.prev</td>\n",
       "      <td>0610.HK</td>\n",
       "      <td>10.651139</td>\n",
       "      <td>10.488873</td>\n",
       "      <td>0.839715</td>\n",
       "    </tr>\n",
       "    <tr>\n",
       "      <th>498851</th>\n",
       "      <td>6823.HK.prev</td>\n",
       "      <td>0910.HK</td>\n",
       "      <td>-0.118056</td>\n",
       "      <td>10.026390</td>\n",
       "      <td>0.827201</td>\n",
       "    </tr>\n",
       "    <tr>\n",
       "      <th>255021</th>\n",
       "      <td>0764.HK.prev</td>\n",
       "      <td>0278.HK</td>\n",
       "      <td>-0.062942</td>\n",
       "      <td>9.529558</td>\n",
       "      <td>0.812186</td>\n",
       "    </tr>\n",
       "    <tr>\n",
       "      <th>439221</th>\n",
       "      <td>2323.HK.prev</td>\n",
       "      <td>0158.HK</td>\n",
       "      <td>-0.126845</td>\n",
       "      <td>9.503764</td>\n",
       "      <td>0.811357</td>\n",
       "    </tr>\n",
       "    <tr>\n",
       "      <th>81353</th>\n",
       "      <td>0212.HK.prev</td>\n",
       "      <td>0295.HK</td>\n",
       "      <td>6.113124</td>\n",
       "      <td>9.033194</td>\n",
       "      <td>0.795319</td>\n",
       "    </tr>\n",
       "  </tbody>\n",
       "</table>\n",
       "</div>"
      ],
      "text/plain": [
       "                Prev    Today     Params     TValues  RSquared\n",
       "147377  0383.HK.prev  1221.HK   0.006750  223.516709  0.999580\n",
       "81397   0212.HK.prev  0383.HK  32.157624   15.107274  0.915740\n",
       "290374  0898.HK.prev  0383.HK   8.059397   10.913853  0.850120\n",
       "165148  0451.HK.prev  2728.HK   1.832097   10.515187  0.840388\n",
       "109725  0278.HK.prev  0610.HK  -1.463381   10.488873  0.839715\n",
       "396362  1639.HK.prev  0610.HK  10.651139   10.488873  0.839715\n",
       "498851  6823.HK.prev  0910.HK  -0.118056   10.026390  0.827201\n",
       "255021  0764.HK.prev  0278.HK  -0.062942    9.529558  0.812186\n",
       "439221  2323.HK.prev  0158.HK  -0.126845    9.503764  0.811357\n",
       "81353   0212.HK.prev  0295.HK   6.113124    9.033194  0.795319"
      ]
     },
     "execution_count": 11,
     "metadata": {},
     "output_type": "execute_result"
    }
   ],
   "source": [
    "sorted_df = result_df.sort_values(by='RSquared', ascending=False)\n",
    "sorted_df.head(10)"
   ]
  },
  {
   "cell_type": "markdown",
   "metadata": {},
   "source": [
    "### Analyze the Top pair"
   ]
  },
  {
   "cell_type": "code",
   "execution_count": 12,
   "metadata": {},
   "outputs": [
    {
     "name": "stdout",
     "output_type": "stream",
     "text": [
      "0383.HK\n"
     ]
    },
    {
     "ename": "NameError",
     "evalue": "name 'start' is not defined",
     "output_type": "error",
     "traceback": [
      "\u001b[0;31m---------------------------------------------------------------------------\u001b[0m",
      "\u001b[0;31mNameError\u001b[0m                                 Traceback (most recent call last)",
      "\u001b[0;32m<ipython-input-12-28fa5831790c>\u001b[0m in \u001b[0;36m<module>\u001b[0;34m\u001b[0m\n\u001b[1;32m      2\u001b[0m \u001b[0mstock2\u001b[0m \u001b[0;34m=\u001b[0m \u001b[0;34m'1221.HK'\u001b[0m\u001b[0;34m\u001b[0m\u001b[0;34m\u001b[0m\u001b[0m\n\u001b[1;32m      3\u001b[0m \u001b[0;31m#\u001b[0m\u001b[0;34m\u001b[0m\u001b[0;34m\u001b[0m\u001b[0;34m\u001b[0m\u001b[0m\n\u001b[0;32m----> 4\u001b[0;31m \u001b[0mtools\u001b[0m\u001b[0;34m.\u001b[0m\u001b[0mplot_two_stocks\u001b[0m\u001b[0;34m(\u001b[0m\u001b[0mstock1\u001b[0m\u001b[0;34m,\u001b[0m \u001b[0mstock2\u001b[0m\u001b[0;34m,\u001b[0m \u001b[0mprevday_returns\u001b[0m\u001b[0;34m[\u001b[0m\u001b[0mtrain_start\u001b[0m\u001b[0;34m:\u001b[0m\u001b[0mtrain_end\u001b[0m\u001b[0;34m]\u001b[0m\u001b[0;34m,\u001b[0m \u001b[0mtoday_returns\u001b[0m\u001b[0;34m[\u001b[0m\u001b[0mtrain_start\u001b[0m\u001b[0;34m:\u001b[0m\u001b[0mtrain_end\u001b[0m\u001b[0;34m]\u001b[0m\u001b[0;34m)\u001b[0m\u001b[0;34m\u001b[0m\u001b[0;34m\u001b[0m\u001b[0m\n\u001b[0m",
      "\u001b[0;32m~/jupyter-notebook/slack-trading/tools.py\u001b[0m in \u001b[0;36mplot_two_stocks\u001b[0;34m(stock1, stock2, prevday_returns, today_returns)\u001b[0m\n\u001b[1;32m     33\u001b[0m         \u001b[0mprint\u001b[0m\u001b[0;34m(\u001b[0m\u001b[0mstock1\u001b[0m\u001b[0;34m)\u001b[0m\u001b[0;34m\u001b[0m\u001b[0;34m\u001b[0m\u001b[0m\n\u001b[1;32m     34\u001b[0m     \u001b[0;31m#\u001b[0m\u001b[0;34m\u001b[0m\u001b[0;34m\u001b[0m\u001b[0;34m\u001b[0m\u001b[0m\n\u001b[0;32m---> 35\u001b[0;31m     \u001b[0mdf1\u001b[0m \u001b[0;34m=\u001b[0m \u001b[0myf\u001b[0m\u001b[0;34m.\u001b[0m\u001b[0mdownload\u001b[0m\u001b[0;34m(\u001b[0m\u001b[0mstock1\u001b[0m\u001b[0;34m,\u001b[0m \u001b[0mstart\u001b[0m\u001b[0;34m=\u001b[0m\u001b[0mstart\u001b[0m\u001b[0;34m)\u001b[0m\u001b[0;34m\u001b[0m\u001b[0;34m\u001b[0m\u001b[0m\n\u001b[0m\u001b[1;32m     36\u001b[0m     \u001b[0mdf1\u001b[0m\u001b[0;34m[\u001b[0m\u001b[0;34m'Date'\u001b[0m\u001b[0;34m]\u001b[0m \u001b[0;34m=\u001b[0m \u001b[0mdf1\u001b[0m\u001b[0;34m.\u001b[0m\u001b[0mindex\u001b[0m\u001b[0;34m\u001b[0m\u001b[0;34m\u001b[0m\u001b[0m\n\u001b[1;32m     37\u001b[0m     \u001b[0mdf1\u001b[0m\u001b[0;34m[\u001b[0m\u001b[0;34m'Date'\u001b[0m\u001b[0;34m]\u001b[0m \u001b[0;34m=\u001b[0m \u001b[0mdf1\u001b[0m\u001b[0;34m[\u001b[0m\u001b[0;34m'Date'\u001b[0m\u001b[0;34m]\u001b[0m\u001b[0;34m.\u001b[0m\u001b[0mapply\u001b[0m\u001b[0;34m(\u001b[0m\u001b[0mmdates\u001b[0m\u001b[0;34m.\u001b[0m\u001b[0mdate2num\u001b[0m\u001b[0;34m)\u001b[0m\u001b[0;34m\u001b[0m\u001b[0;34m\u001b[0m\u001b[0m\n",
      "\u001b[0;31mNameError\u001b[0m: name 'start' is not defined"
     ]
    }
   ],
   "source": [
    "stock1 = '0383.HK.prev'\n",
    "stock2 = '1221.HK'\n",
    "#\n",
    "tools.plot_two_stocks(stock1, stock2, prevday_returns, today_returns, train_start, train_end)"
   ]
  },
  {
   "cell_type": "markdown",
   "metadata": {},
   "source": [
    "### Upload to AWS S3"
   ]
  },
  {
   "cell_type": "code",
   "execution_count": null,
   "metadata": {},
   "outputs": [],
   "source": [
    "s3_bucket = 'slack-trading'\n",
    "local_path = '../data'\n",
    "tools.upload_data_to_s3(s3_bucket, local_path)"
   ]
  },
  {
   "cell_type": "markdown",
   "metadata": {},
   "source": [
    "### Verify Linear regression"
   ]
  },
  {
   "cell_type": "markdown",
   "metadata": {},
   "source": [
    "    catstock = pair['prev']\n",
    "    column = pair['today']\n",
    "    X = prevday_returns[[catstock]].copy()\n",
    "    X = sm.add_constant(X)\n",
    "    y = today_returns[[column]]\n",
    "    model = sm.OLS(y, X).fit()\n",
    "    data = {\n",
    "        'Prev' : catstock,\n",
    "        'Today' : column,\n",
    "        'Params' : model.params.iloc[1],\n",
    "        'TValues' : abs(model.tvalues.iloc[1]),\n",
    "        'RSquared' : model.rsquared\n",
    "    }"
   ]
  },
  {
   "cell_type": "code",
   "execution_count": null,
   "metadata": {},
   "outputs": [],
   "source": [
    "prevday_returns[stock1]"
   ]
  },
  {
   "cell_type": "code",
   "execution_count": null,
   "metadata": {},
   "outputs": [],
   "source": [
    "today_returns[stock2]"
   ]
  },
  {
   "cell_type": "code",
   "execution_count": null,
   "metadata": {},
   "outputs": [],
   "source": [
    "X = prevday_returns[stock1].copy()\n",
    "X = sm.add_constant(X)\n",
    "y = today_returns[stock2]\n",
    "model = sm.OLS(y, X).fit()\n",
    "print('Params {:.4f} TValues {:.4f} RSquared {:.4f}'.format(model.params.iloc[1], model.tvalues.iloc[1], model.rsquared))"
   ]
  },
  {
   "cell_type": "markdown",
   "metadata": {},
   "source": [
    "### Multi independent variables"
   ]
  },
  {
   "cell_type": "code",
   "execution_count": null,
   "metadata": {},
   "outputs": [],
   "source": [
    "result_df[result_df['Today']=='1121.HK'].sort_values(by='RSquared', ascending=False)"
   ]
  }
 ],
 "metadata": {
  "kernelspec": {
   "display_name": "Python 3",
   "language": "python",
   "name": "python3"
  },
  "language_info": {
   "codemirror_mode": {
    "name": "ipython",
    "version": 3
   },
   "file_extension": ".py",
   "mimetype": "text/x-python",
   "name": "python",
   "nbconvert_exporter": "python",
   "pygments_lexer": "ipython3",
   "version": "3.7.7"
  }
 },
 "nbformat": 4,
 "nbformat_minor": 2
}
