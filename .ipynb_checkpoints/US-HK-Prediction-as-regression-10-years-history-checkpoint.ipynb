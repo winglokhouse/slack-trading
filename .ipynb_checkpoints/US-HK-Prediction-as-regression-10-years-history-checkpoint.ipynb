{
 "cells": [
  {
   "cell_type": "code",
   "execution_count": 1,
   "metadata": {},
   "outputs": [
    {
     "data": {
      "text/plain": [
       "<module 'tools' from '/home/keithyamkf/jupyter-notebook/slack-trading/tools.py'>"
      ]
     },
     "execution_count": 1,
     "metadata": {},
     "output_type": "execute_result"
    }
   ],
   "source": [
    "import pandas as pd\n",
    "import numpy as np\n",
    "import datetime as dt\n",
    "import statsmodels.api as sm\n",
    "#\n",
    "from multiprocessing import cpu_count\n",
    "from joblib import Parallel\n",
    "from joblib import delayed\n",
    "\n",
    "import tools\n",
    "import importlib\n",
    "importlib.reload(tools)"
   ]
  },
  {
   "cell_type": "code",
   "execution_count": 2,
   "metadata": {},
   "outputs": [],
   "source": [
    "import warnings"
   ]
  },
  {
   "cell_type": "code",
   "execution_count": 3,
   "metadata": {},
   "outputs": [],
   "source": [
    "from sklearn.metrics import mean_squared_error"
   ]
  },
  {
   "cell_type": "markdown",
   "metadata": {},
   "source": [
    "### Download data from AWS S3"
   ]
  },
  {
   "cell_type": "code",
   "execution_count": 4,
   "metadata": {},
   "outputs": [],
   "source": [
    "s3_bucket = 'slack-trading'\n",
    "local_path = '../data/us_hk'\n",
    "tools.download_data_from_s3(s3_bucket, local_path)"
   ]
  },
  {
   "cell_type": "markdown",
   "metadata": {},
   "source": [
    "### CPU Count"
   ]
  },
  {
   "cell_type": "code",
   "execution_count": 5,
   "metadata": {},
   "outputs": [
    {
     "data": {
      "text/plain": [
       "4"
      ]
     },
     "execution_count": 5,
     "metadata": {},
     "output_type": "execute_result"
    }
   ],
   "source": [
    "cpu_count()"
   ]
  },
  {
   "cell_type": "markdown",
   "metadata": {},
   "source": [
    "### Load the dataset"
   ]
  },
  {
   "cell_type": "code",
   "execution_count": 6,
   "metadata": {},
   "outputs": [
    {
     "name": "stderr",
     "output_type": "stream",
     "text": [
      "/opt/miniconda3/envs/conda_env/lib/python3.7/site-packages/ipykernel_launcher.py:6: RuntimeWarning: invalid value encountered in log\n",
      "  \n",
      "/opt/miniconda3/envs/conda_env/lib/python3.7/site-packages/ipykernel_launcher.py:7: RuntimeWarning: invalid value encountered in log\n",
      "  import sys\n"
     ]
    },
    {
     "data": {
      "text/plain": [
       "(2465, 1525)"
      ]
     },
     "execution_count": 6,
     "metadata": {},
     "output_type": "execute_result"
    }
   ],
   "source": [
    "# dataset = pd.read_csv('../data/all_stock_close.csv')\n",
    "dataset = pd.read_csv('../data/us_hk/us_hk_clean_10yr_stock_close.csv')\n",
    "dataset['Date'] = pd.to_datetime(dataset['Date'])\n",
    "dataset.set_index('Date', drop=True, inplace=True)\n",
    "#\n",
    "prevday_returns = np.log(dataset.shift(1)/dataset.shift(2))\n",
    "today_returns = np.log(dataset/dataset.shift(1))\n",
    "#\n",
    "stocks_prev = prevday_returns.columns.to_list()\n",
    "stocks_today_draft = today_returns.columns.to_list()\n",
    "stocks_today = [s for s in stocks_today_draft if '.HK' in s]\n",
    "#\n",
    "new_col = ['{}.prev'.format(c) for c in stocks_prev]\n",
    "prevday_returns.columns = new_col\n",
    "#\n",
    "comb_df = pd.concat([prevday_returns, today_returns[stocks_today]], axis=1)\n",
    "comb_df.shape\n",
    "#"
   ]
  },
  {
   "cell_type": "code",
   "execution_count": 7,
   "metadata": {},
   "outputs": [
    {
     "name": "stdout",
     "output_type": "stream",
     "text": [
      "812 713\n"
     ]
    }
   ],
   "source": [
    "# Find the NaN in comb_df\n",
    "comb_df.dropna(axis=0, how='any', inplace=True)\n",
    "prevday_returns = comb_df[new_col]\n",
    "today_returns = comb_df[stocks_today]\n",
    "print('{} {}'.format(len(new_col), len(stocks_today)))"
   ]
  },
  {
   "cell_type": "markdown",
   "metadata": {},
   "source": [
    "### Count number of Null"
   ]
  },
  {
   "cell_type": "code",
   "execution_count": 8,
   "metadata": {},
   "outputs": [
    {
     "data": {
      "text/plain": [
       "0"
      ]
     },
     "execution_count": 8,
     "metadata": {},
     "output_type": "execute_result"
    }
   ],
   "source": [
    "comb_df.isna().sum().sum()"
   ]
  },
  {
   "cell_type": "markdown",
   "metadata": {},
   "source": [
    "### Begin"
   ]
  },
  {
   "cell_type": "code",
   "execution_count": 9,
   "metadata": {},
   "outputs": [],
   "source": [
    "train_prevday_returns = prevday_returns['2011-01-01':'2011-12-31']\n",
    "train_today_returns = today_returns['2011-01-01':'2011-12-31']"
   ]
  },
  {
   "cell_type": "markdown",
   "metadata": {},
   "source": [
    "### How R-Squared is impacted by number of independent variabkles"
   ]
  },
  {
   "cell_type": "code",
   "execution_count": 10,
   "metadata": {},
   "outputs": [
    {
     "data": {
      "text/html": [
       "<div>\n",
       "<style scoped>\n",
       "    .dataframe tbody tr th:only-of-type {\n",
       "        vertical-align: middle;\n",
       "    }\n",
       "\n",
       "    .dataframe tbody tr th {\n",
       "        vertical-align: top;\n",
       "    }\n",
       "\n",
       "    .dataframe thead th {\n",
       "        text-align: right;\n",
       "    }\n",
       "</style>\n",
       "<table border=\"1\" class=\"dataframe\">\n",
       "  <thead>\n",
       "    <tr style=\"text-align: right;\">\n",
       "      <th></th>\n",
       "      <th>Prev</th>\n",
       "      <th>Today</th>\n",
       "      <th>Params</th>\n",
       "      <th>TValues</th>\n",
       "      <th>RSquared</th>\n",
       "    </tr>\n",
       "  </thead>\n",
       "  <tbody>\n",
       "    <tr>\n",
       "      <th>350544</th>\n",
       "      <td>['MFC.prev', '2000.HK.prev', '0489.HK.prev']</td>\n",
       "      <td>0945.HK</td>\n",
       "      <td>0.728230</td>\n",
       "      <td>20.956501</td>\n",
       "      <td>0.657471</td>\n",
       "    </tr>\n",
       "    <tr>\n",
       "      <th>350919</th>\n",
       "      <td>['MFC.prev', '2000.HK.prev', '2314.HK.prev']</td>\n",
       "      <td>0945.HK</td>\n",
       "      <td>0.736761</td>\n",
       "      <td>20.877441</td>\n",
       "      <td>0.654788</td>\n",
       "    </tr>\n",
       "    <tr>\n",
       "      <th>350413</th>\n",
       "      <td>['MFC.prev', '2000.HK.prev', '0213.HK.prev']</td>\n",
       "      <td>0945.HK</td>\n",
       "      <td>0.719757</td>\n",
       "      <td>20.719799</td>\n",
       "      <td>0.654607</td>\n",
       "    </tr>\n",
       "    <tr>\n",
       "      <th>350711</th>\n",
       "      <td>['MFC.prev', '2000.HK.prev', '0896.HK.prev']</td>\n",
       "      <td>0945.HK</td>\n",
       "      <td>0.726726</td>\n",
       "      <td>20.823740</td>\n",
       "      <td>0.654297</td>\n",
       "    </tr>\n",
       "    <tr>\n",
       "      <th>350492</th>\n",
       "      <td>['MFC.prev', '2000.HK.prev', '0358.HK.prev']</td>\n",
       "      <td>0945.HK</td>\n",
       "      <td>0.741787</td>\n",
       "      <td>20.764924</td>\n",
       "      <td>0.653634</td>\n",
       "    </tr>\n",
       "    <tr>\n",
       "      <th>350649</th>\n",
       "      <td>['MFC.prev', '2000.HK.prev', '0727.HK.prev']</td>\n",
       "      <td>0945.HK</td>\n",
       "      <td>0.722991</td>\n",
       "      <td>20.733292</td>\n",
       "      <td>0.653110</td>\n",
       "    </tr>\n",
       "    <tr>\n",
       "      <th>351032</th>\n",
       "      <td>['MFC.prev', '2000.HK.prev', 'DLB.prev']</td>\n",
       "      <td>0945.HK</td>\n",
       "      <td>0.660090</td>\n",
       "      <td>16.919923</td>\n",
       "      <td>0.653103</td>\n",
       "    </tr>\n",
       "    <tr>\n",
       "      <th>350566</th>\n",
       "      <td>['MFC.prev', '2000.HK.prev', '0538.HK.prev']</td>\n",
       "      <td>0945.HK</td>\n",
       "      <td>0.697275</td>\n",
       "      <td>19.768968</td>\n",
       "      <td>0.653084</td>\n",
       "    </tr>\n",
       "    <tr>\n",
       "      <th>350996</th>\n",
       "      <td>['MFC.prev', '2000.HK.prev', '3898.HK.prev']</td>\n",
       "      <td>0945.HK</td>\n",
       "      <td>0.736827</td>\n",
       "      <td>20.772614</td>\n",
       "      <td>0.652871</td>\n",
       "    </tr>\n",
       "    <tr>\n",
       "      <th>350815</th>\n",
       "      <td>['MFC.prev', '2000.HK.prev', '1176.HK.prev']</td>\n",
       "      <td>0945.HK</td>\n",
       "      <td>0.711074</td>\n",
       "      <td>20.413208</td>\n",
       "      <td>0.652783</td>\n",
       "    </tr>\n",
       "  </tbody>\n",
       "</table>\n",
       "</div>"
      ],
      "text/plain": [
       "                                                Prev    Today    Params  \\\n",
       "350544  ['MFC.prev', '2000.HK.prev', '0489.HK.prev']  0945.HK  0.728230   \n",
       "350919  ['MFC.prev', '2000.HK.prev', '2314.HK.prev']  0945.HK  0.736761   \n",
       "350413  ['MFC.prev', '2000.HK.prev', '0213.HK.prev']  0945.HK  0.719757   \n",
       "350711  ['MFC.prev', '2000.HK.prev', '0896.HK.prev']  0945.HK  0.726726   \n",
       "350492  ['MFC.prev', '2000.HK.prev', '0358.HK.prev']  0945.HK  0.741787   \n",
       "350649  ['MFC.prev', '2000.HK.prev', '0727.HK.prev']  0945.HK  0.722991   \n",
       "351032      ['MFC.prev', '2000.HK.prev', 'DLB.prev']  0945.HK  0.660090   \n",
       "350566  ['MFC.prev', '2000.HK.prev', '0538.HK.prev']  0945.HK  0.697275   \n",
       "350996  ['MFC.prev', '2000.HK.prev', '3898.HK.prev']  0945.HK  0.736827   \n",
       "350815  ['MFC.prev', '2000.HK.prev', '1176.HK.prev']  0945.HK  0.711074   \n",
       "\n",
       "          TValues  RSquared  \n",
       "350544  20.956501  0.657471  \n",
       "350919  20.877441  0.654788  \n",
       "350413  20.719799  0.654607  \n",
       "350711  20.823740  0.654297  \n",
       "350492  20.764924  0.653634  \n",
       "350649  20.733292  0.653110  \n",
       "351032  16.919923  0.653103  \n",
       "350566  19.768968  0.653084  \n",
       "350996  20.772614  0.652871  \n",
       "350815  20.413208  0.652783  "
      ]
     },
     "execution_count": 10,
     "metadata": {},
     "output_type": "execute_result"
    }
   ],
   "source": [
    "# result_df = pd.read_csv('../data/regression_pair.csv', index_col=0)\n",
    "result_df = pd.read_csv('../data/us_hk/us_hk_3indp_var_10yr_regression_pair.csv', index_col=0)\n",
    "sorted_df = result_df.sort_values(by='RSquared', ascending=False)\n",
    "sorted_df.head(10)"
   ]
  },
  {
   "cell_type": "code",
   "execution_count": 11,
   "metadata": {},
   "outputs": [],
   "source": [
    "filtered_df = result_df[result_df['Today']=='0945.HK'].sort_values(by='RSquared', ascending=False)"
   ]
  },
  {
   "cell_type": "markdown",
   "metadata": {},
   "source": [
    "### How to create different sets of independent variables"
   ]
  },
  {
   "cell_type": "code",
   "execution_count": 12,
   "metadata": {},
   "outputs": [
    {
     "data": {
      "text/html": [
       "<div>\n",
       "<style scoped>\n",
       "    .dataframe tbody tr th:only-of-type {\n",
       "        vertical-align: middle;\n",
       "    }\n",
       "\n",
       "    .dataframe tbody tr th {\n",
       "        vertical-align: top;\n",
       "    }\n",
       "\n",
       "    .dataframe thead th {\n",
       "        text-align: right;\n",
       "    }\n",
       "</style>\n",
       "<table border=\"1\" class=\"dataframe\">\n",
       "  <thead>\n",
       "    <tr style=\"text-align: right;\">\n",
       "      <th></th>\n",
       "      <th>Prev</th>\n",
       "      <th>Today</th>\n",
       "      <th>Params</th>\n",
       "      <th>TValues</th>\n",
       "      <th>RSquared</th>\n",
       "    </tr>\n",
       "  </thead>\n",
       "  <tbody>\n",
       "    <tr>\n",
       "      <th>350544</th>\n",
       "      <td>['MFC.prev', '2000.HK.prev', '0489.HK.prev']</td>\n",
       "      <td>0945.HK</td>\n",
       "      <td>0.728230</td>\n",
       "      <td>20.956501</td>\n",
       "      <td>0.657471</td>\n",
       "    </tr>\n",
       "    <tr>\n",
       "      <th>350919</th>\n",
       "      <td>['MFC.prev', '2000.HK.prev', '2314.HK.prev']</td>\n",
       "      <td>0945.HK</td>\n",
       "      <td>0.736761</td>\n",
       "      <td>20.877441</td>\n",
       "      <td>0.654788</td>\n",
       "    </tr>\n",
       "    <tr>\n",
       "      <th>350413</th>\n",
       "      <td>['MFC.prev', '2000.HK.prev', '0213.HK.prev']</td>\n",
       "      <td>0945.HK</td>\n",
       "      <td>0.719757</td>\n",
       "      <td>20.719799</td>\n",
       "      <td>0.654607</td>\n",
       "    </tr>\n",
       "    <tr>\n",
       "      <th>350711</th>\n",
       "      <td>['MFC.prev', '2000.HK.prev', '0896.HK.prev']</td>\n",
       "      <td>0945.HK</td>\n",
       "      <td>0.726726</td>\n",
       "      <td>20.823740</td>\n",
       "      <td>0.654297</td>\n",
       "    </tr>\n",
       "    <tr>\n",
       "      <th>350492</th>\n",
       "      <td>['MFC.prev', '2000.HK.prev', '0358.HK.prev']</td>\n",
       "      <td>0945.HK</td>\n",
       "      <td>0.741787</td>\n",
       "      <td>20.764924</td>\n",
       "      <td>0.653634</td>\n",
       "    </tr>\n",
       "  </tbody>\n",
       "</table>\n",
       "</div>"
      ],
      "text/plain": [
       "                                                Prev    Today    Params  \\\n",
       "350544  ['MFC.prev', '2000.HK.prev', '0489.HK.prev']  0945.HK  0.728230   \n",
       "350919  ['MFC.prev', '2000.HK.prev', '2314.HK.prev']  0945.HK  0.736761   \n",
       "350413  ['MFC.prev', '2000.HK.prev', '0213.HK.prev']  0945.HK  0.719757   \n",
       "350711  ['MFC.prev', '2000.HK.prev', '0896.HK.prev']  0945.HK  0.726726   \n",
       "350492  ['MFC.prev', '2000.HK.prev', '0358.HK.prev']  0945.HK  0.741787   \n",
       "\n",
       "          TValues  RSquared  \n",
       "350544  20.956501  0.657471  \n",
       "350919  20.877441  0.654788  \n",
       "350413  20.719799  0.654607  \n",
       "350711  20.823740  0.654297  \n",
       "350492  20.764924  0.653634  "
      ]
     },
     "execution_count": 12,
     "metadata": {},
     "output_type": "execute_result"
    }
   ],
   "source": [
    "filtered_df[:5]"
   ]
  },
  {
   "cell_type": "code",
   "execution_count": 17,
   "metadata": {},
   "outputs": [
    {
     "data": {
      "text/plain": [
       "Prev        ['MFC.prev', '2000.HK.prev', '0489.HK.prev']\n",
       "Today                                            0945.HK\n",
       "Params                                           0.72823\n",
       "TValues                                          20.9565\n",
       "RSquared                                        0.657471\n",
       "Name: 350544, dtype: object"
      ]
     },
     "execution_count": 17,
     "metadata": {},
     "output_type": "execute_result"
    }
   ],
   "source": [
    "selected_set = filtered_df.iloc[0]\n",
    "selected_set"
   ]
  },
  {
   "cell_type": "code",
   "execution_count": 18,
   "metadata": {},
   "outputs": [
    {
     "data": {
      "text/plain": [
       "\"['MFC.prev', '2000.HK.prev', '0489.HK.prev']\""
      ]
     },
     "execution_count": 18,
     "metadata": {},
     "output_type": "execute_result"
    }
   ],
   "source": [
    "selected_set['Prev']"
   ]
  },
  {
   "cell_type": "markdown",
   "metadata": {},
   "source": [
    "### Train and Test - Regression Error"
   ]
  },
  {
   "cell_type": "code",
   "execution_count": 23,
   "metadata": {},
   "outputs": [],
   "source": [
    "from datetime import datetime\n",
    "from dateutil.relativedelta import relativedelta\n",
    "from sklearn.metrics import r2_score"
   ]
  },
  {
   "cell_type": "code",
   "execution_count": 19,
   "metadata": {},
   "outputs": [],
   "source": [
    "depd_stock = \"0945.HK\""
   ]
  },
  {
   "cell_type": "code",
   "execution_count": 20,
   "metadata": {},
   "outputs": [],
   "source": [
    "warnings.filterwarnings(\"ignore\")"
   ]
  },
  {
   "cell_type": "code",
   "execution_count": 25,
   "metadata": {},
   "outputs": [
    {
     "name": "stdout",
     "output_type": "stream",
     "text": [
      "3 independent variables\n",
      "    in start     in end  out start    out end    in mse    in rsq   out mse   out rsq  in to out mse  out to in rsq\n",
      "0 2011-01-01 2011-12-31 2012-01-01 2012-03-31  0.000212  0.657339  0.000115  0.712445       1.839497       1.083832\n",
      "1 2011-04-01 2012-03-31 2012-04-01 2012-06-30  0.000199  0.678624  0.000190  0.617241       1.043933       0.909547\n",
      "2 2011-07-01 2012-06-30 2012-07-01 2012-09-30  0.000223  0.664645  0.000072  0.771756       3.093448       1.161155\n",
      "3 2011-10-01 2012-09-30 2012-10-01 2012-12-30  0.000176  0.669621  0.000068  0.455653       2.594686       0.680463\n",
      "4 2012-01-01 2012-12-30 2013-01-01 2013-03-30  0.000104  0.698022  0.000088  0.481759       1.188667       0.690177\n",
      "5 2012-04-01 2013-03-30 2013-04-01 2013-06-30  0.000097  0.658831  0.000076  0.692571       1.271482       1.051212\n",
      "6 2012-07-01 2013-06-30 2013-07-01 2013-09-30  0.000070  0.676866  0.000062  0.569631       1.121432       0.841571\n",
      "7 2012-10-01 2013-09-30 2013-10-01 2013-12-30  0.000067  0.610962  0.000031  0.701510       2.191432       1.148206\n",
      "8 2013-01-01 2013-12-30 2014-01-01 2014-03-30  0.000063  0.619569  0.000090  0.512015       0.699531       0.826405\n",
      "9 2013-04-01 2014-03-30 2014-04-01 2014-06-30  0.000064  0.627245  0.000023  0.710842       2.784571       1.133277\n",
      "          in mse     in rsq    out mse    out rsq  in to out mse  out to in rsq\n",
      "count  10.000000  10.000000  10.000000  10.000000      10.000000      10.000000\n",
      "mean    0.000127   0.656172   0.000082   0.622542       1.782868       0.952585\n",
      "std     0.000067   0.028216   0.000047   0.111555       0.838116       0.186898\n",
      "min     0.000063   0.610962   0.000023   0.455653       0.699531       0.680463\n",
      "25%     0.000068   0.634769   0.000064   0.526419       1.138241       0.830196\n",
      "50%     0.000101   0.661738   0.000074   0.654906       1.555489       0.980380\n",
      "75%     0.000193   0.675055   0.000090   0.708509       2.493873       1.120916\n",
      "max     0.000223   0.698022   0.000190   0.771756       3.093448       1.161155\n"
     ]
    }
   ],
   "source": [
    "indepd_stock = selected_set['Prev'].replace('\\'','').strip('][').split(', ') # convert list representation to list\n",
    "#\n",
    "train_start_txt = '2011-01-01'\n",
    "train_end_txt = '2011-12-31'\n",
    "train_start = datetime.strptime(train_start_txt, '%Y-%m-%d')\n",
    "train_end = datetime.strptime(train_end_txt, '%Y-%m-%d')\n",
    "test_start = train_end + relativedelta(days=1)\n",
    "test_end = train_end + relativedelta(months=3)\n",
    "#\n",
    "result_ls = list()\n",
    "for i in range(0, 10):\n",
    "    train_prevday_returns = prevday_returns[train_start:train_end]\n",
    "    train_today_returns = today_returns[train_start:train_end]\n",
    "    test_prevday_returns = prevday_returns[test_start:test_end]\n",
    "    test_today_returns = today_returns[test_start:test_end]\n",
    "    #\n",
    "    X_train = train_prevday_returns[indepd_stock].copy()\n",
    "    X_train = sm.add_constant(X_train)\n",
    "    y_train = train_today_returns[depd_stock]\n",
    "    model = sm.OLS(y_train, X_train).fit()\n",
    "    #\n",
    "    y_train_pred = model.predict(X_train)\n",
    "    train_mse = mean_squared_error(y_train, y_train_pred)\n",
    "    #\n",
    "    X_test = test_prevday_returns[indepd_stock].copy()\n",
    "    X_test = sm.add_constant(X_test)\n",
    "    y_test = test_today_returns[depd_stock]\n",
    "    y_test_pred = model.predict(X_test)\n",
    "    test_mse = mean_squared_error(y_test, y_test_pred)\n",
    "    #\n",
    "    model_test = sm.OLS(y_test, X_test).fit()\n",
    "    #\n",
    "    result = {\n",
    "        'in start' : train_start,\n",
    "        'in end' : train_end,\n",
    "        'out start' : test_start,\n",
    "        'out end' : test_end,\n",
    "        'in mse' : train_mse,\n",
    "        'in rsq' : r2_score(y_train, y_train_pred),\n",
    "        'out mse' : test_mse,\n",
    "        'out rsq' : r2_score(y_test, y_test_pred),\n",
    "        'in to out mse' : train_mse / test_mse,\n",
    "        'out to in rsq' : r2_score(y_test, y_test_pred) / r2_score(y_train, y_train_pred)\n",
    "    }\n",
    "    result_ls.append(result)\n",
    "    #\n",
    "    train_start = train_start + relativedelta(months=3)\n",
    "    train_end = train_end + relativedelta(months=3)\n",
    "    test_start = test_start + relativedelta(months=3)\n",
    "    test_end = test_end + relativedelta(months=3)\n",
    "print('{} independent variables'.format(len(indepd_stock)))\n",
    "result_df = pd.DataFrame(result_ls)\n",
    "with pd.option_context('expand_frame_repr', False):\n",
    "    print(result_df)\n",
    "    print(result_df.describe())"
   ]
  },
  {
   "cell_type": "code",
   "execution_count": null,
   "metadata": {},
   "outputs": [],
   "source": []
  }
 ],
 "metadata": {
  "kernelspec": {
   "display_name": "Python 3",
   "language": "python",
   "name": "python3"
  },
  "language_info": {
   "codemirror_mode": {
    "name": "ipython",
    "version": 3
   },
   "file_extension": ".py",
   "mimetype": "text/x-python",
   "name": "python",
   "nbconvert_exporter": "python",
   "pygments_lexer": "ipython3",
   "version": "3.7.7"
  }
 },
 "nbformat": 4,
 "nbformat_minor": 2
}
