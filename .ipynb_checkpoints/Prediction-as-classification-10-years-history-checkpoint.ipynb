{
 "cells": [
  {
   "cell_type": "code",
   "execution_count": 1,
   "metadata": {},
   "outputs": [
    {
     "data": {
      "text/plain": [
       "<module 'tools' from '/home/keithyamkf/jupyter-notebook/slack-trading/tools.py'>"
      ]
     },
     "execution_count": 1,
     "metadata": {},
     "output_type": "execute_result"
    }
   ],
   "source": [
    "import pandas as pd\n",
    "import numpy as np\n",
    "import datetime as dt\n",
    "import statsmodels.api as sm\n",
    "#\n",
    "from multiprocessing import cpu_count\n",
    "from joblib import Parallel\n",
    "from joblib import delayed\n",
    "\n",
    "import tools\n",
    "import importlib\n",
    "importlib.reload(tools)"
   ]
  },
  {
   "cell_type": "markdown",
   "metadata": {},
   "source": [
    "### Download data from AWS S3"
   ]
  },
  {
   "cell_type": "code",
   "execution_count": 2,
   "metadata": {},
   "outputs": [],
   "source": [
    "s3_bucket = 'slack-trading'\n",
    "local_path = '../data'\n",
    "tools.download_data_from_s3(s3_bucket, local_path)"
   ]
  },
  {
   "cell_type": "markdown",
   "metadata": {},
   "source": [
    "### CPU Count"
   ]
  },
  {
   "cell_type": "code",
   "execution_count": 3,
   "metadata": {},
   "outputs": [
    {
     "data": {
      "text/plain": [
       "4"
      ]
     },
     "execution_count": 3,
     "metadata": {},
     "output_type": "execute_result"
    }
   ],
   "source": [
    "cpu_count()"
   ]
  },
  {
   "cell_type": "markdown",
   "metadata": {},
   "source": [
    "### Begin"
   ]
  },
  {
   "cell_type": "code",
   "execution_count": null,
   "metadata": {},
   "outputs": [],
   "source": [
    "# dataset = pd.read_csv('../data/all_stock_close.csv')\n",
    "dataset = pd.read_csv('../data/10yr_stock_close.csv')\n",
    "dataset['Date'] = pd.to_datetime(dataset['Date'])\n",
    "dataset.set_index('Date', drop=True, inplace=True)\n",
    "dataset.head(3)\n",
    "#\n",
    "prevday_returns = np.log(dataset.shift(1)/dataset.shift(2))\n",
    "today_returns = np.log(dataset/dataset.shift(1))\n",
    "#\n",
    "stocks_prev = prevday_returns.columns.to_list()\n",
    "stocks_today = today_returns.columns.to_list()\n",
    "#\n",
    "new_col = ['{}.prev'.format(c) for c in stocks_prev]\n",
    "prevday_returns.columns = new_col\n",
    "#\n",
    "comb_df = pd.concat([prevday_returns, today_returns], axis=1)\n",
    "#"
   ]
  },
  {
   "cell_type": "code",
   "execution_count": 5,
   "metadata": {},
   "outputs": [
    {
     "name": "stderr",
     "output_type": "stream",
     "text": [
      "/opt/miniconda3/envs/conda_env/lib/python3.7/site-packages/ipykernel_launcher.py:8: RuntimeWarning: invalid value encountered in log\n",
      "  \n"
     ]
    }
   ],
   "source": [
    "# Find the NaN in comb_df\n",
    "comb_df.dropna(axis=0, how='any', inplace=True)\n",
    "prevday_returns = comb_df[new_col]\n",
    "today_returns = comb_df[stocks_today]"
   ]
  },
  {
   "cell_type": "markdown",
   "metadata": {},
   "source": [
    "### Training"
   ]
  },
  {
   "cell_type": "code",
   "execution_count": 6,
   "metadata": {},
   "outputs": [],
   "source": [
    "depd_stock = \"1221.HK\"\n",
    "indepd_stock = \"0383.HK.prev\"\n",
    "train_start = '2011-01-01'\n",
    "train_end = '2011-12-31'\n",
    "train_prevday_returns = prevday_returns[train_start:train_end]\n",
    "train_today_returns = today_returns[train_start:train_end]"
   ]
  },
  {
   "cell_type": "code",
   "execution_count": 8,
   "metadata": {
    "scrolled": true
   },
   "outputs": [
    {
     "name": "stdout",
     "output_type": "stream",
     "text": [
      "Params 0.0067 TValues 223.5167 RSquared 0.9996\n"
     ]
    },
    {
     "name": "stderr",
     "output_type": "stream",
     "text": [
      "/opt/miniconda3/envs/conda_env/lib/python3.7/site-packages/numpy/core/fromnumeric.py:2542: FutureWarning: Method .ptp is deprecated and will be removed in a future version. Use numpy.ptp instead.\n",
      "  return ptp(axis=axis, out=out, **kwargs)\n"
     ]
    }
   ],
   "source": [
    "X = train_prevday_returns[indepd_stock].copy()\n",
    "X = sm.add_constant(X)\n",
    "y = train_today_returns[depd_stock]\n",
    "model = sm.OLS(y, X).fit()\n",
    "print('Params {:.4f} TValues {:.4f} RSquared {:.4f}'.format(model.params.iloc[1], model.tvalues.iloc[1], model.rsquared))"
   ]
  },
  {
   "cell_type": "code",
   "execution_count": 9,
   "metadata": {},
   "outputs": [
    {
     "data": {
      "text/html": [
       "<table class=\"simpletable\">\n",
       "<caption>OLS Regression Results</caption>\n",
       "<tr>\n",
       "  <th>Dep. Variable:</th>         <td>1221.HK</td>     <th>  R-squared:         </th> <td>   1.000</td> \n",
       "</tr>\n",
       "<tr>\n",
       "  <th>Model:</th>                   <td>OLS</td>       <th>  Adj. R-squared:    </th> <td>   1.000</td> \n",
       "</tr>\n",
       "<tr>\n",
       "  <th>Method:</th>             <td>Least Squares</td>  <th>  F-statistic:       </th> <td>4.996e+04</td>\n",
       "</tr>\n",
       "<tr>\n",
       "  <th>Date:</th>             <td>Mon, 28 Dec 2020</td> <th>  Prob (F-statistic):</th> <td>6.05e-37</td> \n",
       "</tr>\n",
       "<tr>\n",
       "  <th>Time:</th>                 <td>21:29:17</td>     <th>  Log-Likelihood:    </th> <td>  194.46</td> \n",
       "</tr>\n",
       "<tr>\n",
       "  <th>No. Observations:</th>      <td>    23</td>      <th>  AIC:               </th> <td>  -384.9</td> \n",
       "</tr>\n",
       "<tr>\n",
       "  <th>Df Residuals:</th>          <td>    21</td>      <th>  BIC:               </th> <td>  -382.7</td> \n",
       "</tr>\n",
       "<tr>\n",
       "  <th>Df Model:</th>              <td>     1</td>      <th>                     </th>     <td> </td>    \n",
       "</tr>\n",
       "<tr>\n",
       "  <th>Covariance Type:</th>      <td>nonrobust</td>    <th>                     </th>     <td> </td>    \n",
       "</tr>\n",
       "</table>\n",
       "<table class=\"simpletable\">\n",
       "<tr>\n",
       "        <td></td>          <th>coef</th>     <th>std err</th>      <th>t</th>      <th>P>|t|</th>  <th>[0.025</th>    <th>0.975]</th>  \n",
       "</tr>\n",
       "<tr>\n",
       "  <th>const</th>        <td> 1.801e-05</td> <td> 1.15e-05</td> <td>    1.569</td> <td> 0.132</td> <td>-5.86e-06</td> <td> 4.19e-05</td>\n",
       "</tr>\n",
       "<tr>\n",
       "  <th>0383.HK.prev</th> <td>    0.0067</td> <td> 3.02e-05</td> <td>  223.517</td> <td> 0.000</td> <td>    0.007</td> <td>    0.007</td>\n",
       "</tr>\n",
       "</table>\n",
       "<table class=\"simpletable\">\n",
       "<tr>\n",
       "  <th>Omnibus:</th>       <td>23.971</td> <th>  Durbin-Watson:     </th> <td>   1.399</td>\n",
       "</tr>\n",
       "<tr>\n",
       "  <th>Prob(Omnibus):</th> <td> 0.000</td> <th>  Jarque-Bera (JB):  </th> <td>  35.514</td>\n",
       "</tr>\n",
       "<tr>\n",
       "  <th>Skew:</th>          <td> 2.084</td> <th>  Prob(JB):          </th> <td>1.94e-08</td>\n",
       "</tr>\n",
       "<tr>\n",
       "  <th>Kurtosis:</th>      <td> 7.437</td> <th>  Cond. No.          </th> <td>    2.71</td>\n",
       "</tr>\n",
       "</table><br/><br/>Warnings:<br/>[1] Standard Errors assume that the covariance matrix of the errors is correctly specified."
      ],
      "text/plain": [
       "<class 'statsmodels.iolib.summary.Summary'>\n",
       "\"\"\"\n",
       "                            OLS Regression Results                            \n",
       "==============================================================================\n",
       "Dep. Variable:                1221.HK   R-squared:                       1.000\n",
       "Model:                            OLS   Adj. R-squared:                  1.000\n",
       "Method:                 Least Squares   F-statistic:                 4.996e+04\n",
       "Date:                Mon, 28 Dec 2020   Prob (F-statistic):           6.05e-37\n",
       "Time:                        21:29:17   Log-Likelihood:                 194.46\n",
       "No. Observations:                  23   AIC:                            -384.9\n",
       "Df Residuals:                      21   BIC:                            -382.7\n",
       "Df Model:                           1                                         \n",
       "Covariance Type:            nonrobust                                         \n",
       "================================================================================\n",
       "                   coef    std err          t      P>|t|      [0.025      0.975]\n",
       "--------------------------------------------------------------------------------\n",
       "const         1.801e-05   1.15e-05      1.569      0.132   -5.86e-06    4.19e-05\n",
       "0383.HK.prev     0.0067   3.02e-05    223.517      0.000       0.007       0.007\n",
       "==============================================================================\n",
       "Omnibus:                       23.971   Durbin-Watson:                   1.399\n",
       "Prob(Omnibus):                  0.000   Jarque-Bera (JB):               35.514\n",
       "Skew:                           2.084   Prob(JB):                     1.94e-08\n",
       "Kurtosis:                       7.437   Cond. No.                         2.71\n",
       "==============================================================================\n",
       "\n",
       "Warnings:\n",
       "[1] Standard Errors assume that the covariance matrix of the errors is correctly specified.\n",
       "\"\"\""
      ]
     },
     "execution_count": 9,
     "metadata": {},
     "output_type": "execute_result"
    }
   ],
   "source": [
    "model.summary()"
   ]
  },
  {
   "cell_type": "code",
   "execution_count": 11,
   "metadata": {},
   "outputs": [
    {
     "data": {
      "text/plain": [
       "Date\n",
       "2011-11-21    0.000018\n",
       "2011-11-22    0.000018\n",
       "2011-11-23    0.000018\n",
       "2011-11-29   -0.000044\n",
       "2011-11-30    0.000018\n",
       "2011-12-01    0.000018\n",
       "2011-12-02    0.000018\n",
       "2011-12-05    0.012316\n",
       "2011-12-06    0.000018\n",
       "2011-12-07    0.000083\n",
       "dtype: float64"
      ]
     },
     "execution_count": 11,
     "metadata": {},
     "output_type": "execute_result"
    }
   ],
   "source": [
    "model.predict(X).head(10)"
   ]
  },
  {
   "cell_type": "code",
   "execution_count": 12,
   "metadata": {
    "scrolled": true
   },
   "outputs": [
    {
     "data": {
      "text/plain": [
       "Date\n",
       "2011-11-21    0.000000\n",
       "2011-11-22    0.000000\n",
       "2011-11-23    0.000000\n",
       "2011-11-29    0.000000\n",
       "2011-11-30    0.000000\n",
       "2011-12-01    0.000000\n",
       "2011-12-02    0.000000\n",
       "2011-12-05    0.012321\n",
       "2011-12-06    0.000000\n",
       "2011-12-07    0.000000\n",
       "Name: 1221.HK, dtype: float64"
      ]
     },
     "execution_count": 12,
     "metadata": {},
     "output_type": "execute_result"
    }
   ],
   "source": [
    "y.head(10)"
   ]
  },
  {
   "cell_type": "code",
   "execution_count": 21,
   "metadata": {},
   "outputs": [
    {
     "data": {
      "text/plain": [
       "count    23.000000\n",
       "mean      0.000536\n",
       "std       0.002569\n",
       "min       0.000000\n",
       "25%       0.000000\n",
       "50%       0.000000\n",
       "75%       0.000000\n",
       "max       0.012321\n",
       "Name: 1221.HK, dtype: float64"
      ]
     },
     "execution_count": 21,
     "metadata": {},
     "output_type": "execute_result"
    }
   ],
   "source": [
    "y.describe()"
   ]
  },
  {
   "cell_type": "code",
   "execution_count": 23,
   "metadata": {},
   "outputs": [
    {
     "data": {
      "text/plain": [
       "Date\n",
       "2011-11-21    0.000000\n",
       "2011-11-22    0.000000\n",
       "2011-11-23    0.000000\n",
       "2011-11-29    0.000000\n",
       "2011-11-30    0.000000\n",
       "2011-12-01    0.000000\n",
       "2011-12-02    0.000000\n",
       "2011-12-05    0.012321\n",
       "2011-12-06    0.000000\n",
       "2011-12-07    0.000000\n",
       "2011-12-08    0.000000\n",
       "2011-12-09    0.000000\n",
       "2011-12-12    0.000000\n",
       "2011-12-13    0.000000\n",
       "2011-12-14    0.000000\n",
       "2011-12-15    0.000000\n",
       "2011-12-16    0.000000\n",
       "2011-12-19    0.000000\n",
       "2011-12-20    0.000000\n",
       "2011-12-21    0.000000\n",
       "2011-12-22    0.000000\n",
       "2011-12-23    0.000000\n",
       "2011-12-30    0.000000\n",
       "Name: 1221.HK, dtype: float64"
      ]
     },
     "execution_count": 23,
     "metadata": {},
     "output_type": "execute_result"
    }
   ],
   "source": [
    "y"
   ]
  },
  {
   "cell_type": "markdown",
   "metadata": {},
   "source": [
    "### Why data begins with 2011 Nov"
   ]
  },
  {
   "cell_type": "code",
   "execution_count": 24,
   "metadata": {},
   "outputs": [
    {
     "data": {
      "text/html": [
       "<div>\n",
       "<style scoped>\n",
       "    .dataframe tbody tr th:only-of-type {\n",
       "        vertical-align: middle;\n",
       "    }\n",
       "\n",
       "    .dataframe tbody tr th {\n",
       "        vertical-align: top;\n",
       "    }\n",
       "\n",
       "    .dataframe thead th {\n",
       "        text-align: right;\n",
       "    }\n",
       "</style>\n",
       "<table border=\"1\" class=\"dataframe\">\n",
       "  <thead>\n",
       "    <tr style=\"text-align: right;\">\n",
       "      <th></th>\n",
       "      <th>0001.HK</th>\n",
       "      <th>0002.HK</th>\n",
       "      <th>0003.HK</th>\n",
       "      <th>0004.HK</th>\n",
       "      <th>0005.HK</th>\n",
       "      <th>0006.HK</th>\n",
       "      <th>0007.HK</th>\n",
       "      <th>0008.HK</th>\n",
       "      <th>0010.HK</th>\n",
       "      <th>0011.HK</th>\n",
       "      <th>...</th>\n",
       "      <th>3900.HK</th>\n",
       "      <th>3918.HK</th>\n",
       "      <th>3933.HK</th>\n",
       "      <th>3968.HK</th>\n",
       "      <th>3988.HK</th>\n",
       "      <th>3989.HK</th>\n",
       "      <th>3993.HK</th>\n",
       "      <th>3998.HK</th>\n",
       "      <th>3999.HK</th>\n",
       "      <th>6823.HK</th>\n",
       "    </tr>\n",
       "    <tr>\n",
       "      <th>Date</th>\n",
       "      <th></th>\n",
       "      <th></th>\n",
       "      <th></th>\n",
       "      <th></th>\n",
       "      <th></th>\n",
       "      <th></th>\n",
       "      <th></th>\n",
       "      <th></th>\n",
       "      <th></th>\n",
       "      <th></th>\n",
       "      <th></th>\n",
       "      <th></th>\n",
       "      <th></th>\n",
       "      <th></th>\n",
       "      <th></th>\n",
       "      <th></th>\n",
       "      <th></th>\n",
       "      <th></th>\n",
       "      <th></th>\n",
       "      <th></th>\n",
       "      <th></th>\n",
       "    </tr>\n",
       "  </thead>\n",
       "  <tbody>\n",
       "    <tr>\n",
       "      <th>2010-12-15</th>\n",
       "      <td>NaN</td>\n",
       "      <td>NaN</td>\n",
       "      <td>NaN</td>\n",
       "      <td>NaN</td>\n",
       "      <td>NaN</td>\n",
       "      <td>NaN</td>\n",
       "      <td>NaN</td>\n",
       "      <td>NaN</td>\n",
       "      <td>NaN</td>\n",
       "      <td>NaN</td>\n",
       "      <td>...</td>\n",
       "      <td>NaN</td>\n",
       "      <td>NaN</td>\n",
       "      <td>NaN</td>\n",
       "      <td>NaN</td>\n",
       "      <td>NaN</td>\n",
       "      <td>NaN</td>\n",
       "      <td>NaN</td>\n",
       "      <td>NaN</td>\n",
       "      <td>NaN</td>\n",
       "      <td>NaN</td>\n",
       "    </tr>\n",
       "    <tr>\n",
       "      <th>2010-12-16</th>\n",
       "      <td>54.239201</td>\n",
       "      <td>41.867352</td>\n",
       "      <td>5.876146</td>\n",
       "      <td>7.521868</td>\n",
       "      <td>49.719463</td>\n",
       "      <td>27.087934</td>\n",
       "      <td>0.74</td>\n",
       "      <td>1.850096</td>\n",
       "      <td>39.334167</td>\n",
       "      <td>83.144638</td>\n",
       "      <td>...</td>\n",
       "      <td>6.194169</td>\n",
       "      <td>0.968916</td>\n",
       "      <td>13.910029</td>\n",
       "      <td>13.643694</td>\n",
       "      <td>2.287869</td>\n",
       "      <td>0.42579</td>\n",
       "      <td>1.055358</td>\n",
       "      <td>2.284827</td>\n",
       "      <td>1.325954</td>\n",
       "      <td>0.248277</td>\n",
       "    </tr>\n",
       "  </tbody>\n",
       "</table>\n",
       "<p>2 rows × 707 columns</p>\n",
       "</div>"
      ],
      "text/plain": [
       "              0001.HK    0002.HK   0003.HK   0004.HK    0005.HK    0006.HK  \\\n",
       "Date                                                                         \n",
       "2010-12-15        NaN        NaN       NaN       NaN        NaN        NaN   \n",
       "2010-12-16  54.239201  41.867352  5.876146  7.521868  49.719463  27.087934   \n",
       "\n",
       "            0007.HK   0008.HK    0010.HK    0011.HK  ...   3900.HK   3918.HK  \\\n",
       "Date                                                 ...                       \n",
       "2010-12-15      NaN       NaN        NaN        NaN  ...       NaN       NaN   \n",
       "2010-12-16     0.74  1.850096  39.334167  83.144638  ...  6.194169  0.968916   \n",
       "\n",
       "              3933.HK    3968.HK   3988.HK  3989.HK   3993.HK   3998.HK  \\\n",
       "Date                                                                      \n",
       "2010-12-15        NaN        NaN       NaN      NaN       NaN       NaN   \n",
       "2010-12-16  13.910029  13.643694  2.287869  0.42579  1.055358  2.284827   \n",
       "\n",
       "             3999.HK   6823.HK  \n",
       "Date                            \n",
       "2010-12-15       NaN       NaN  \n",
       "2010-12-16  1.325954  0.248277  \n",
       "\n",
       "[2 rows x 707 columns]"
      ]
     },
     "execution_count": 24,
     "metadata": {},
     "output_type": "execute_result"
    }
   ],
   "source": [
    "dataset.head(2)"
   ]
  },
  {
   "cell_type": "code",
   "execution_count": 26,
   "metadata": {},
   "outputs": [
    {
     "data": {
      "text/plain": [
       "Date\n",
       "2011-01-03    1.875176\n",
       "2011-01-04    1.875176\n",
       "2011-01-05    1.875176\n",
       "2011-01-06    1.952984\n",
       "2011-01-07    1.952984\n",
       "                ...   \n",
       "2011-12-23    1.906299\n",
       "2011-12-27         NaN\n",
       "2011-12-28    1.906299\n",
       "2011-12-29    1.906299\n",
       "2011-12-30    1.906299\n",
       "Name: 1221.HK, Length: 248, dtype: float64"
      ]
     },
     "execution_count": 26,
     "metadata": {},
     "output_type": "execute_result"
    }
   ],
   "source": [
    "dataset.loc[train_start:train_end, '1221.HK']"
   ]
  },
  {
   "cell_type": "code",
   "execution_count": 27,
   "metadata": {},
   "outputs": [
    {
     "data": {
      "text/plain": [
       "Date\n",
       "2011-01-03    0.005993\n",
       "2011-01-04    0.006042\n",
       "2011-01-05    0.005993\n",
       "2011-01-06    0.006139\n",
       "2011-01-07    0.006139\n",
       "                ...   \n",
       "2011-12-23    0.031032\n",
       "2011-12-27         NaN\n",
       "2011-12-28    0.031032\n",
       "2011-12-29    0.031032\n",
       "2011-12-30    0.031032\n",
       "Name: 0383.HK, Length: 248, dtype: float64"
      ]
     },
     "execution_count": 27,
     "metadata": {},
     "output_type": "execute_result"
    }
   ],
   "source": [
    "dataset.loc[train_start:train_end, '0383.HK']"
   ]
  },
  {
   "cell_type": "code",
   "execution_count": 28,
   "metadata": {},
   "outputs": [
    {
     "data": {
      "text/plain": [
       "Date\n",
       "2011-11-21    0.000000\n",
       "2011-11-22    0.000000\n",
       "2011-11-23    0.000000\n",
       "2011-11-29    0.000000\n",
       "2011-11-30    0.000000\n",
       "2011-12-01    0.000000\n",
       "2011-12-02    0.000000\n",
       "2011-12-05    0.012321\n",
       "2011-12-06    0.000000\n",
       "2011-12-07    0.000000\n",
       "2011-12-08    0.000000\n",
       "2011-12-09    0.000000\n",
       "2011-12-12    0.000000\n",
       "2011-12-13    0.000000\n",
       "2011-12-14    0.000000\n",
       "2011-12-15    0.000000\n",
       "2011-12-16    0.000000\n",
       "2011-12-19    0.000000\n",
       "2011-12-20    0.000000\n",
       "2011-12-21    0.000000\n",
       "2011-12-22    0.000000\n",
       "2011-12-23    0.000000\n",
       "2011-12-30    0.000000\n",
       "Name: 1221.HK, dtype: float64"
      ]
     },
     "execution_count": 28,
     "metadata": {},
     "output_type": "execute_result"
    }
   ],
   "source": [
    "comb_df.loc[train_start:train_end, '1221.HK']"
   ]
  },
  {
   "cell_type": "markdown",
   "metadata": {},
   "source": [
    "### How to read log"
   ]
  },
  {
   "cell_type": "code",
   "execution_count": 18,
   "metadata": {},
   "outputs": [
    {
     "name": "stdout",
     "output_type": "stream",
     "text": [
      "0    NaN\n",
      "1    1.0\n",
      "2    2.0\n",
      "3    3.0\n",
      "dtype: float64\n"
     ]
    },
    {
     "data": {
      "text/plain": [
       "0         NaN\n",
       "1    0.693147\n",
       "2    0.405465\n",
       "3    0.287682\n",
       "dtype: float64"
      ]
     },
     "execution_count": 18,
     "metadata": {},
     "output_type": "execute_result"
    }
   ],
   "source": [
    "rise = pd.Series(np.array([1, 2 ,3 ,4]))\n",
    "print(rise.shift(1))\n",
    "np.log(rise/rise.shift(1)) # np.log(>1)"
   ]
  },
  {
   "cell_type": "code",
   "execution_count": 19,
   "metadata": {},
   "outputs": [
    {
     "data": {
      "text/plain": [
       "0         NaN\n",
       "1   -0.287682\n",
       "2   -0.405465\n",
       "3   -0.693147\n",
       "dtype: float64"
      ]
     },
     "execution_count": 19,
     "metadata": {},
     "output_type": "execute_result"
    }
   ],
   "source": [
    "fall = pd.Series(np.array([4, 3, 2,1]))\n",
    "np.log(fall/fall.shift(1)) # np.log(<1)"
   ]
  },
  {
   "cell_type": "code",
   "execution_count": null,
   "metadata": {},
   "outputs": [],
   "source": []
  }
 ],
 "metadata": {
  "kernelspec": {
   "display_name": "Python 3",
   "language": "python",
   "name": "python3"
  },
  "language_info": {
   "codemirror_mode": {
    "name": "ipython",
    "version": 3
   },
   "file_extension": ".py",
   "mimetype": "text/x-python",
   "name": "python",
   "nbconvert_exporter": "python",
   "pygments_lexer": "ipython3",
   "version": "3.7.7"
  }
 },
 "nbformat": 4,
 "nbformat_minor": 2
}
