{
 "cells": [
  {
   "cell_type": "code",
   "execution_count": 1,
   "metadata": {},
   "outputs": [
    {
     "data": {
      "text/plain": [
       "<module 'tools' from '/home/keithyamkf/jupyter-notebook/slack-trading/tools.py'>"
      ]
     },
     "execution_count": 1,
     "metadata": {},
     "output_type": "execute_result"
    }
   ],
   "source": [
    "import pandas as pd\n",
    "import numpy as np\n",
    "import datetime as dt\n",
    "import statsmodels.api as sm\n",
    "#\n",
    "from multiprocessing import cpu_count\n",
    "from joblib import Parallel\n",
    "from joblib import delayed\n",
    "\n",
    "import tools\n",
    "import importlib\n",
    "importlib.reload(tools)"
   ]
  },
  {
   "cell_type": "markdown",
   "metadata": {},
   "source": [
    "### Download data from AWS S3"
   ]
  },
  {
   "cell_type": "code",
   "execution_count": 2,
   "metadata": {},
   "outputs": [],
   "source": [
    "s3_bucket = 'slack-trading'\n",
    "local_path = '../data'\n",
    "tools.download_data_from_s3(s3_bucket, local_path)"
   ]
  },
  {
   "cell_type": "markdown",
   "metadata": {},
   "source": [
    "### CPU Count"
   ]
  },
  {
   "cell_type": "code",
   "execution_count": 3,
   "metadata": {},
   "outputs": [
    {
     "data": {
      "text/plain": [
       "4"
      ]
     },
     "execution_count": 3,
     "metadata": {},
     "output_type": "execute_result"
    }
   ],
   "source": [
    "cpu_count()"
   ]
  },
  {
   "cell_type": "markdown",
   "metadata": {},
   "source": [
    "### Begin"
   ]
  },
  {
   "cell_type": "code",
   "execution_count": 4,
   "metadata": {},
   "outputs": [
    {
     "name": "stderr",
     "output_type": "stream",
     "text": [
      "/opt/miniconda3/envs/conda_env/lib/python3.7/site-packages/ipykernel_launcher.py:8: RuntimeWarning: invalid value encountered in log\n",
      "  \n"
     ]
    }
   ],
   "source": [
    "# dataset = pd.read_csv('../data/all_stock_close.csv')\n",
    "dataset = pd.read_csv('../data/10yr_stock_close.csv')\n",
    "dataset['Date'] = pd.to_datetime(dataset['Date'])\n",
    "dataset.set_index('Date', drop=True, inplace=True)\n",
    "dataset.head(3)\n",
    "#\n",
    "prevday_returns = np.log(dataset.shift(1)/dataset.shift(2))\n",
    "today_returns = np.log(dataset/dataset.shift(1))\n",
    "#\n",
    "stocks_prev = prevday_returns.columns.to_list()\n",
    "stocks_today = today_returns.columns.to_list()\n",
    "#\n",
    "new_col = ['{}.prev'.format(c) for c in stocks_prev]\n",
    "prevday_returns.columns = new_col\n",
    "#\n",
    "comb_df = pd.concat([prevday_returns, today_returns], axis=1)\n",
    "#"
   ]
  },
  {
   "cell_type": "code",
   "execution_count": null,
   "metadata": {},
   "outputs": [],
   "source": [
    "# Find the NaN in comb_df\n",
    "comb_df.dropna(axis=0, how='any', inplace=True)\n",
    "prevday_returns = comb_df[new_col]\n",
    "today_returns = comb_df[stocks_today]"
   ]
  },
  {
   "cell_type": "markdown",
   "metadata": {},
   "source": [
    "### Training"
   ]
  },
  {
   "cell_type": "code",
   "execution_count": 7,
   "metadata": {},
   "outputs": [],
   "source": [
    "depd_stock = \"1221.HK\"\n",
    "indepd_stock = \"0383.HK.prev\"\n",
    "train_start = '2011-01-01'\n",
    "train_end = '2011-12-31'\n",
    "train_prevday_returns = prevday_returns[train_start:train_end]\n",
    "train_today_returns = today_returns[train_start:train_end]"
   ]
  },
  {
   "cell_type": "code",
   "execution_count": null,
   "metadata": {
    "scrolled": true
   },
   "outputs": [],
   "source": [
    "X = train_prevday_returns[indepd_stock].copy()\n",
    "X = sm.add_constant(X)\n",
    "y = train_today_returns[depd_stock]\n",
    "model = sm.OLS(y, X).fit()\n",
    "print('Params {:.4f} TValues {:.4f} RSquared {:.4f}'.format(model.params.iloc[1], model.tvalues.iloc[1], model.rsquared))"
   ]
  },
  {
   "cell_type": "code",
   "execution_count": null,
   "metadata": {},
   "outputs": [],
   "source": [
    "model.summary()"
   ]
  },
  {
   "cell_type": "code",
   "execution_count": null,
   "metadata": {},
   "outputs": [],
   "source": [
    "model.predict(X).head(10)"
   ]
  },
  {
   "cell_type": "code",
   "execution_count": null,
   "metadata": {
    "scrolled": true
   },
   "outputs": [],
   "source": [
    "y.head(10)"
   ]
  },
  {
   "cell_type": "code",
   "execution_count": null,
   "metadata": {},
   "outputs": [],
   "source": [
    "y.describe()"
   ]
  },
  {
   "cell_type": "code",
   "execution_count": null,
   "metadata": {},
   "outputs": [],
   "source": [
    "y"
   ]
  },
  {
   "cell_type": "markdown",
   "metadata": {},
   "source": [
    "### Why data begins with 2011 Nov"
   ]
  },
  {
   "cell_type": "code",
   "execution_count": 5,
   "metadata": {},
   "outputs": [
    {
     "data": {
      "text/html": [
       "<div>\n",
       "<style scoped>\n",
       "    .dataframe tbody tr th:only-of-type {\n",
       "        vertical-align: middle;\n",
       "    }\n",
       "\n",
       "    .dataframe tbody tr th {\n",
       "        vertical-align: top;\n",
       "    }\n",
       "\n",
       "    .dataframe thead th {\n",
       "        text-align: right;\n",
       "    }\n",
       "</style>\n",
       "<table border=\"1\" class=\"dataframe\">\n",
       "  <thead>\n",
       "    <tr style=\"text-align: right;\">\n",
       "      <th></th>\n",
       "      <th>0001.HK</th>\n",
       "      <th>0002.HK</th>\n",
       "      <th>0003.HK</th>\n",
       "      <th>0004.HK</th>\n",
       "      <th>0005.HK</th>\n",
       "      <th>0006.HK</th>\n",
       "      <th>0007.HK</th>\n",
       "      <th>0008.HK</th>\n",
       "      <th>0010.HK</th>\n",
       "      <th>0011.HK</th>\n",
       "      <th>...</th>\n",
       "      <th>3900.HK</th>\n",
       "      <th>3918.HK</th>\n",
       "      <th>3933.HK</th>\n",
       "      <th>3968.HK</th>\n",
       "      <th>3988.HK</th>\n",
       "      <th>3989.HK</th>\n",
       "      <th>3993.HK</th>\n",
       "      <th>3998.HK</th>\n",
       "      <th>3999.HK</th>\n",
       "      <th>6823.HK</th>\n",
       "    </tr>\n",
       "    <tr>\n",
       "      <th>Date</th>\n",
       "      <th></th>\n",
       "      <th></th>\n",
       "      <th></th>\n",
       "      <th></th>\n",
       "      <th></th>\n",
       "      <th></th>\n",
       "      <th></th>\n",
       "      <th></th>\n",
       "      <th></th>\n",
       "      <th></th>\n",
       "      <th></th>\n",
       "      <th></th>\n",
       "      <th></th>\n",
       "      <th></th>\n",
       "      <th></th>\n",
       "      <th></th>\n",
       "      <th></th>\n",
       "      <th></th>\n",
       "      <th></th>\n",
       "      <th></th>\n",
       "      <th></th>\n",
       "    </tr>\n",
       "  </thead>\n",
       "  <tbody>\n",
       "    <tr>\n",
       "      <th>2010-12-15</th>\n",
       "      <td>NaN</td>\n",
       "      <td>NaN</td>\n",
       "      <td>NaN</td>\n",
       "      <td>NaN</td>\n",
       "      <td>NaN</td>\n",
       "      <td>NaN</td>\n",
       "      <td>NaN</td>\n",
       "      <td>NaN</td>\n",
       "      <td>NaN</td>\n",
       "      <td>NaN</td>\n",
       "      <td>...</td>\n",
       "      <td>NaN</td>\n",
       "      <td>NaN</td>\n",
       "      <td>NaN</td>\n",
       "      <td>NaN</td>\n",
       "      <td>NaN</td>\n",
       "      <td>NaN</td>\n",
       "      <td>NaN</td>\n",
       "      <td>NaN</td>\n",
       "      <td>NaN</td>\n",
       "      <td>NaN</td>\n",
       "    </tr>\n",
       "    <tr>\n",
       "      <th>2010-12-16</th>\n",
       "      <td>54.239201</td>\n",
       "      <td>41.867352</td>\n",
       "      <td>5.876146</td>\n",
       "      <td>7.521868</td>\n",
       "      <td>49.719463</td>\n",
       "      <td>27.087934</td>\n",
       "      <td>0.74</td>\n",
       "      <td>1.850096</td>\n",
       "      <td>39.334167</td>\n",
       "      <td>83.144638</td>\n",
       "      <td>...</td>\n",
       "      <td>6.194169</td>\n",
       "      <td>0.968916</td>\n",
       "      <td>13.910029</td>\n",
       "      <td>13.643694</td>\n",
       "      <td>2.287869</td>\n",
       "      <td>0.42579</td>\n",
       "      <td>1.055358</td>\n",
       "      <td>2.284827</td>\n",
       "      <td>1.325954</td>\n",
       "      <td>0.248277</td>\n",
       "    </tr>\n",
       "  </tbody>\n",
       "</table>\n",
       "<p>2 rows × 707 columns</p>\n",
       "</div>"
      ],
      "text/plain": [
       "              0001.HK    0002.HK   0003.HK   0004.HK    0005.HK    0006.HK  \\\n",
       "Date                                                                         \n",
       "2010-12-15        NaN        NaN       NaN       NaN        NaN        NaN   \n",
       "2010-12-16  54.239201  41.867352  5.876146  7.521868  49.719463  27.087934   \n",
       "\n",
       "            0007.HK   0008.HK    0010.HK    0011.HK  ...   3900.HK   3918.HK  \\\n",
       "Date                                                 ...                       \n",
       "2010-12-15      NaN       NaN        NaN        NaN  ...       NaN       NaN   \n",
       "2010-12-16     0.74  1.850096  39.334167  83.144638  ...  6.194169  0.968916   \n",
       "\n",
       "              3933.HK    3968.HK   3988.HK  3989.HK   3993.HK   3998.HK  \\\n",
       "Date                                                                      \n",
       "2010-12-15        NaN        NaN       NaN      NaN       NaN       NaN   \n",
       "2010-12-16  13.910029  13.643694  2.287869  0.42579  1.055358  2.284827   \n",
       "\n",
       "             3999.HK   6823.HK  \n",
       "Date                            \n",
       "2010-12-15       NaN       NaN  \n",
       "2010-12-16  1.325954  0.248277  \n",
       "\n",
       "[2 rows x 707 columns]"
      ]
     },
     "execution_count": 5,
     "metadata": {},
     "output_type": "execute_result"
    }
   ],
   "source": [
    "dataset.head(2)"
   ]
  },
  {
   "cell_type": "code",
   "execution_count": 8,
   "metadata": {},
   "outputs": [
    {
     "data": {
      "text/plain": [
       "Date\n",
       "2011-01-03    1.875176\n",
       "2011-01-04    1.875176\n",
       "2011-01-05    1.875176\n",
       "2011-01-06    1.952984\n",
       "2011-01-07    1.952984\n",
       "                ...   \n",
       "2011-12-23    1.906299\n",
       "2011-12-27         NaN\n",
       "2011-12-28    1.906299\n",
       "2011-12-29    1.906299\n",
       "2011-12-30    1.906299\n",
       "Name: 1221.HK, Length: 248, dtype: float64"
      ]
     },
     "execution_count": 8,
     "metadata": {},
     "output_type": "execute_result"
    }
   ],
   "source": [
    "dataset.loc[train_start:train_end, '1221.HK']"
   ]
  },
  {
   "cell_type": "code",
   "execution_count": 9,
   "metadata": {},
   "outputs": [
    {
     "data": {
      "text/plain": [
       "Date\n",
       "2011-01-03    0.005993\n",
       "2011-01-04    0.006042\n",
       "2011-01-05    0.005993\n",
       "2011-01-06    0.006139\n",
       "2011-01-07    0.006139\n",
       "                ...   \n",
       "2011-12-23    0.031032\n",
       "2011-12-27         NaN\n",
       "2011-12-28    0.031032\n",
       "2011-12-29    0.031032\n",
       "2011-12-30    0.031032\n",
       "Name: 0383.HK, Length: 248, dtype: float64"
      ]
     },
     "execution_count": 9,
     "metadata": {},
     "output_type": "execute_result"
    }
   ],
   "source": [
    "dataset.loc[train_start:train_end, '0383.HK']"
   ]
  },
  {
   "cell_type": "code",
   "execution_count": 10,
   "metadata": {},
   "outputs": [
    {
     "data": {
      "text/plain": [
       "Date\n",
       "2011-01-03         NaN\n",
       "2011-01-04    0.000000\n",
       "2011-01-05    0.000000\n",
       "2011-01-06    0.040656\n",
       "2011-01-07    0.000000\n",
       "                ...   \n",
       "2011-12-23    0.000000\n",
       "2011-12-27         NaN\n",
       "2011-12-28         NaN\n",
       "2011-12-29    0.000000\n",
       "2011-12-30    0.000000\n",
       "Name: 1221.HK, Length: 248, dtype: float64"
      ]
     },
     "execution_count": 10,
     "metadata": {},
     "output_type": "execute_result"
    }
   ],
   "source": [
    "comb_df.loc[train_start:train_end, '1221.HK']"
   ]
  },
  {
   "cell_type": "markdown",
   "metadata": {},
   "source": [
    "### How to read log"
   ]
  },
  {
   "cell_type": "code",
   "execution_count": null,
   "metadata": {},
   "outputs": [],
   "source": [
    "rise = pd.Series(np.array([1, 2 ,3 ,4]))\n",
    "print(rise.shift(1))\n",
    "np.log(rise/rise.shift(1)) # np.log(>1)"
   ]
  },
  {
   "cell_type": "code",
   "execution_count": null,
   "metadata": {},
   "outputs": [],
   "source": [
    "fall = pd.Series(np.array([4, 3, 2,1]))\n",
    "np.log(fall/fall.shift(1)) # np.log(<1)"
   ]
  },
  {
   "cell_type": "code",
   "execution_count": null,
   "metadata": {},
   "outputs": [],
   "source": []
  }
 ],
 "metadata": {
  "kernelspec": {
   "display_name": "Python 3",
   "language": "python",
   "name": "python3"
  },
  "language_info": {
   "codemirror_mode": {
    "name": "ipython",
    "version": 3
   },
   "file_extension": ".py",
   "mimetype": "text/x-python",
   "name": "python",
   "nbconvert_exporter": "python",
   "pygments_lexer": "ipython3",
   "version": "3.7.7"
  }
 },
 "nbformat": 4,
 "nbformat_minor": 2
}
