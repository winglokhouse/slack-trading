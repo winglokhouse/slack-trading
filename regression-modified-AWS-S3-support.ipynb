{
 "cells": [
  {
   "cell_type": "code",
   "execution_count": 1,
   "metadata": {},
   "outputs": [
    {
     "data": {
      "text/plain": [
       "<module 'tools' from '/home/keithyamkf/jupyter-notebook/slack-trading/tools.py'>"
      ]
     },
     "execution_count": 1,
     "metadata": {},
     "output_type": "execute_result"
    }
   ],
   "source": [
    "import pandas as pd\n",
    "import numpy as np\n",
    "import datetime as dt\n",
    "import statsmodels.api as sm\n",
    "#\n",
    "from multiprocessing import cpu_count\n",
    "from joblib import Parallel\n",
    "from joblib import delayed\n",
    "\n",
    "import tools\n",
    "import importlib\n",
    "importlib.reload(tools)"
   ]
  },
  {
   "cell_type": "markdown",
   "metadata": {},
   "source": [
    "### Download data from AWS S3"
   ]
  },
  {
   "cell_type": "code",
   "execution_count": 2,
   "metadata": {},
   "outputs": [],
   "source": [
    "s3_bucket = 'slack-trading'\n",
    "local_path = '../data'\n",
    "tools.download_data_from_s3(s3_bucket, local_path)"
   ]
  },
  {
   "cell_type": "markdown",
   "metadata": {},
   "source": [
    "### CPU Count"
   ]
  },
  {
   "cell_type": "code",
   "execution_count": 3,
   "metadata": {},
   "outputs": [
    {
     "data": {
      "text/plain": [
       "16"
      ]
     },
     "execution_count": 3,
     "metadata": {},
     "output_type": "execute_result"
    }
   ],
   "source": [
    "cpu_count()"
   ]
  },
  {
   "cell_type": "markdown",
   "metadata": {},
   "source": [
    "### Begin"
   ]
  },
  {
   "cell_type": "code",
   "execution_count": 4,
   "metadata": {},
   "outputs": [],
   "source": [
    "num_of_years = 1\n",
    "start = dt.date.today() - dt.timedelta(days = int(365.25*num_of_years))\n",
    "end = dt.date.today()"
   ]
  },
  {
   "cell_type": "code",
   "execution_count": 5,
   "metadata": {},
   "outputs": [
    {
     "data": {
      "text/html": [
       "<div>\n",
       "<style scoped>\n",
       "    .dataframe tbody tr th:only-of-type {\n",
       "        vertical-align: middle;\n",
       "    }\n",
       "\n",
       "    .dataframe tbody tr th {\n",
       "        vertical-align: top;\n",
       "    }\n",
       "\n",
       "    .dataframe thead th {\n",
       "        text-align: right;\n",
       "    }\n",
       "</style>\n",
       "<table border=\"1\" class=\"dataframe\">\n",
       "  <thead>\n",
       "    <tr style=\"text-align: right;\">\n",
       "      <th></th>\n",
       "      <th>0001.HK</th>\n",
       "      <th>0002.HK</th>\n",
       "      <th>0003.HK</th>\n",
       "      <th>0004.HK</th>\n",
       "      <th>0005.HK</th>\n",
       "      <th>0006.HK</th>\n",
       "      <th>0007.HK</th>\n",
       "      <th>0008.HK</th>\n",
       "      <th>0010.HK</th>\n",
       "      <th>0011.HK</th>\n",
       "      <th>...</th>\n",
       "      <th>6868.HK</th>\n",
       "      <th>6869.HK</th>\n",
       "      <th>6878.HK</th>\n",
       "      <th>6881.HK</th>\n",
       "      <th>6886.HK</th>\n",
       "      <th>6889.HK</th>\n",
       "      <th>6890.HK</th>\n",
       "      <th>6893.HK</th>\n",
       "      <th>6896.HK</th>\n",
       "      <th>9988.HK</th>\n",
       "    </tr>\n",
       "    <tr>\n",
       "      <th>Date</th>\n",
       "      <th></th>\n",
       "      <th></th>\n",
       "      <th></th>\n",
       "      <th></th>\n",
       "      <th></th>\n",
       "      <th></th>\n",
       "      <th></th>\n",
       "      <th></th>\n",
       "      <th></th>\n",
       "      <th></th>\n",
       "      <th></th>\n",
       "      <th></th>\n",
       "      <th></th>\n",
       "      <th></th>\n",
       "      <th></th>\n",
       "      <th></th>\n",
       "      <th></th>\n",
       "      <th></th>\n",
       "      <th></th>\n",
       "      <th></th>\n",
       "      <th></th>\n",
       "    </tr>\n",
       "  </thead>\n",
       "  <tbody>\n",
       "    <tr>\n",
       "      <th>2019-12-10</th>\n",
       "      <td>NaN</td>\n",
       "      <td>NaN</td>\n",
       "      <td>NaN</td>\n",
       "      <td>NaN</td>\n",
       "      <td>NaN</td>\n",
       "      <td>NaN</td>\n",
       "      <td>NaN</td>\n",
       "      <td>NaN</td>\n",
       "      <td>NaN</td>\n",
       "      <td>NaN</td>\n",
       "      <td>...</td>\n",
       "      <td>NaN</td>\n",
       "      <td>NaN</td>\n",
       "      <td>NaN</td>\n",
       "      <td>NaN</td>\n",
       "      <td>NaN</td>\n",
       "      <td>NaN</td>\n",
       "      <td>NaN</td>\n",
       "      <td>NaN</td>\n",
       "      <td>NaN</td>\n",
       "      <td>NaN</td>\n",
       "    </tr>\n",
       "    <tr>\n",
       "      <th>2019-12-11</th>\n",
       "      <td>66.068962</td>\n",
       "      <td>75.704773</td>\n",
       "      <td>13.765183</td>\n",
       "      <td>17.992689</td>\n",
       "      <td>57.830746</td>\n",
       "      <td>52.005646</td>\n",
       "      <td>0.84</td>\n",
       "      <td>4.296173</td>\n",
       "      <td>18.745403</td>\n",
       "      <td>149.965576</td>\n",
       "      <td>...</td>\n",
       "      <td>5.792519</td>\n",
       "      <td>13.036684</td>\n",
       "      <td>0.43</td>\n",
       "      <td>4.043017</td>\n",
       "      <td>12.284131</td>\n",
       "      <td>9.617226</td>\n",
       "      <td>1.0494</td>\n",
       "      <td>0.65</td>\n",
       "      <td>1.102041</td>\n",
       "      <td>197.600006</td>\n",
       "    </tr>\n",
       "    <tr>\n",
       "      <th>2019-12-12</th>\n",
       "      <td>67.205635</td>\n",
       "      <td>76.889137</td>\n",
       "      <td>13.857778</td>\n",
       "      <td>18.326250</td>\n",
       "      <td>58.378670</td>\n",
       "      <td>52.524284</td>\n",
       "      <td>0.84</td>\n",
       "      <td>4.324192</td>\n",
       "      <td>18.823429</td>\n",
       "      <td>151.492905</td>\n",
       "      <td>...</td>\n",
       "      <td>5.782881</td>\n",
       "      <td>13.485552</td>\n",
       "      <td>0.44</td>\n",
       "      <td>4.023580</td>\n",
       "      <td>12.225635</td>\n",
       "      <td>9.617226</td>\n",
       "      <td>1.0494</td>\n",
       "      <td>0.62</td>\n",
       "      <td>1.102041</td>\n",
       "      <td>200.199997</td>\n",
       "    </tr>\n",
       "  </tbody>\n",
       "</table>\n",
       "<p>3 rows × 1219 columns</p>\n",
       "</div>"
      ],
      "text/plain": [
       "              0001.HK    0002.HK    0003.HK    0004.HK    0005.HK    0006.HK  \\\n",
       "Date                                                                           \n",
       "2019-12-10        NaN        NaN        NaN        NaN        NaN        NaN   \n",
       "2019-12-11  66.068962  75.704773  13.765183  17.992689  57.830746  52.005646   \n",
       "2019-12-12  67.205635  76.889137  13.857778  18.326250  58.378670  52.524284   \n",
       "\n",
       "            0007.HK   0008.HK    0010.HK     0011.HK  ...   6868.HK  \\\n",
       "Date                                                  ...             \n",
       "2019-12-10      NaN       NaN        NaN         NaN  ...       NaN   \n",
       "2019-12-11     0.84  4.296173  18.745403  149.965576  ...  5.792519   \n",
       "2019-12-12     0.84  4.324192  18.823429  151.492905  ...  5.782881   \n",
       "\n",
       "              6869.HK  6878.HK   6881.HK    6886.HK   6889.HK  6890.HK  \\\n",
       "Date                                                                     \n",
       "2019-12-10        NaN      NaN       NaN        NaN       NaN      NaN   \n",
       "2019-12-11  13.036684     0.43  4.043017  12.284131  9.617226   1.0494   \n",
       "2019-12-12  13.485552     0.44  4.023580  12.225635  9.617226   1.0494   \n",
       "\n",
       "            6893.HK   6896.HK     9988.HK  \n",
       "Date                                       \n",
       "2019-12-10      NaN       NaN         NaN  \n",
       "2019-12-11     0.65  1.102041  197.600006  \n",
       "2019-12-12     0.62  1.102041  200.199997  \n",
       "\n",
       "[3 rows x 1219 columns]"
      ]
     },
     "execution_count": 5,
     "metadata": {},
     "output_type": "execute_result"
    }
   ],
   "source": [
    "# dataset = pd.read_csv('../data/all_stock_close.csv')\n",
    "dataset = pd.read_csv('../data/all_stock_close_cleaned.csv')\n",
    "dataset['Date'] = pd.to_datetime(dataset['Date'])\n",
    "dataset.set_index('Date', drop=True, inplace=True)\n",
    "dataset.head(3)"
   ]
  },
  {
   "cell_type": "code",
   "execution_count": 6,
   "metadata": {},
   "outputs": [],
   "source": [
    "prevday_returns = np.log(dataset.shift(1)/dataset.shift(2))\n",
    "today_returns = np.log(dataset/dataset.shift(1))\n",
    "#\n",
    "stocks_prev = prevday_returns.columns.to_list()\n",
    "stocks_today = today_returns.columns.to_list()\n",
    "#\n",
    "new_col = ['{}.prev'.format(c) for c in stocks_prev]\n",
    "prevday_returns.columns = new_col\n",
    "#\n",
    "comb_df = pd.concat([prevday_returns, today_returns], axis=1)"
   ]
  },
  {
   "cell_type": "markdown",
   "metadata": {},
   "source": [
    "### Fina the NaN in comb_df"
   ]
  },
  {
   "cell_type": "code",
   "execution_count": 9,
   "metadata": {},
   "outputs": [],
   "source": [
    "comb_df.dropna(axis=0, how='any', inplace=True)"
   ]
  },
  {
   "cell_type": "code",
   "execution_count": 10,
   "metadata": {},
   "outputs": [
    {
     "data": {
      "text/html": [
       "<div>\n",
       "<style scoped>\n",
       "    .dataframe tbody tr th:only-of-type {\n",
       "        vertical-align: middle;\n",
       "    }\n",
       "\n",
       "    .dataframe tbody tr th {\n",
       "        vertical-align: top;\n",
       "    }\n",
       "\n",
       "    .dataframe thead th {\n",
       "        text-align: right;\n",
       "    }\n",
       "</style>\n",
       "<table border=\"1\" class=\"dataframe\">\n",
       "  <thead>\n",
       "    <tr style=\"text-align: right;\">\n",
       "      <th></th>\n",
       "      <th>0001.HK.prev</th>\n",
       "      <th>0002.HK.prev</th>\n",
       "      <th>0003.HK.prev</th>\n",
       "      <th>0004.HK.prev</th>\n",
       "      <th>0005.HK.prev</th>\n",
       "      <th>0006.HK.prev</th>\n",
       "      <th>0007.HK.prev</th>\n",
       "      <th>0008.HK.prev</th>\n",
       "      <th>0010.HK.prev</th>\n",
       "      <th>0011.HK.prev</th>\n",
       "      <th>...</th>\n",
       "      <th>6868.HK</th>\n",
       "      <th>6869.HK</th>\n",
       "      <th>6878.HK</th>\n",
       "      <th>6881.HK</th>\n",
       "      <th>6886.HK</th>\n",
       "      <th>6889.HK</th>\n",
       "      <th>6890.HK</th>\n",
       "      <th>6893.HK</th>\n",
       "      <th>6896.HK</th>\n",
       "      <th>9988.HK</th>\n",
       "    </tr>\n",
       "    <tr>\n",
       "      <th>Date</th>\n",
       "      <th></th>\n",
       "      <th></th>\n",
       "      <th></th>\n",
       "      <th></th>\n",
       "      <th></th>\n",
       "      <th></th>\n",
       "      <th></th>\n",
       "      <th></th>\n",
       "      <th></th>\n",
       "      <th></th>\n",
       "      <th></th>\n",
       "      <th></th>\n",
       "      <th></th>\n",
       "      <th></th>\n",
       "      <th></th>\n",
       "      <th></th>\n",
       "      <th></th>\n",
       "      <th></th>\n",
       "      <th></th>\n",
       "      <th></th>\n",
       "      <th></th>\n",
       "    </tr>\n",
       "  </thead>\n",
       "  <tbody>\n",
       "    <tr>\n",
       "      <th>2020-12-16</th>\n",
       "      <td>-0.023898</td>\n",
       "      <td>-0.004952</td>\n",
       "      <td>-0.017212</td>\n",
       "      <td>0.000000</td>\n",
       "      <td>-0.008500</td>\n",
       "      <td>-0.009828</td>\n",
       "      <td>0.009569</td>\n",
       "      <td>-0.002077</td>\n",
       "      <td>-0.008351</td>\n",
       "      <td>0.003646</td>\n",
       "      <td>...</td>\n",
       "      <td>0.006814</td>\n",
       "      <td>0.037023</td>\n",
       "      <td>0.000000</td>\n",
       "      <td>0.006543</td>\n",
       "      <td>0.000000</td>\n",
       "      <td>-0.011187</td>\n",
       "      <td>-0.012903</td>\n",
       "      <td>-0.058269</td>\n",
       "      <td>0.007067</td>\n",
       "      <td>0.020121</td>\n",
       "    </tr>\n",
       "    <tr>\n",
       "      <th>2020-12-17</th>\n",
       "      <td>0.008337</td>\n",
       "      <td>0.005658</td>\n",
       "      <td>0.000000</td>\n",
       "      <td>0.005147</td>\n",
       "      <td>0.007290</td>\n",
       "      <td>0.008605</td>\n",
       "      <td>0.000000</td>\n",
       "      <td>-0.008351</td>\n",
       "      <td>0.005227</td>\n",
       "      <td>-0.000728</td>\n",
       "      <td>...</td>\n",
       "      <td>-0.001699</td>\n",
       "      <td>0.011719</td>\n",
       "      <td>0.013423</td>\n",
       "      <td>0.012959</td>\n",
       "      <td>0.003478</td>\n",
       "      <td>-0.007528</td>\n",
       "      <td>0.012903</td>\n",
       "      <td>0.039221</td>\n",
       "      <td>0.000000</td>\n",
       "      <td>0.027507</td>\n",
       "    </tr>\n",
       "    <tr>\n",
       "      <th>2020-12-18</th>\n",
       "      <td>-0.001847</td>\n",
       "      <td>-0.005658</td>\n",
       "      <td>0.000000</td>\n",
       "      <td>-0.001027</td>\n",
       "      <td>0.009639</td>\n",
       "      <td>-0.007371</td>\n",
       "      <td>0.009479</td>\n",
       "      <td>0.004184</td>\n",
       "      <td>0.010373</td>\n",
       "      <td>-0.004380</td>\n",
       "      <td>...</td>\n",
       "      <td>0.000000</td>\n",
       "      <td>0.011583</td>\n",
       "      <td>-0.013423</td>\n",
       "      <td>-0.019502</td>\n",
       "      <td>0.018917</td>\n",
       "      <td>0.000000</td>\n",
       "      <td>0.012739</td>\n",
       "      <td>0.091808</td>\n",
       "      <td>-0.014185</td>\n",
       "      <td>-0.009346</td>\n",
       "    </tr>\n",
       "  </tbody>\n",
       "</table>\n",
       "<p>3 rows × 2438 columns</p>\n",
       "</div>"
      ],
      "text/plain": [
       "            0001.HK.prev  0002.HK.prev  0003.HK.prev  0004.HK.prev  \\\n",
       "Date                                                                 \n",
       "2020-12-16     -0.023898     -0.004952     -0.017212      0.000000   \n",
       "2020-12-17      0.008337      0.005658      0.000000      0.005147   \n",
       "2020-12-18     -0.001847     -0.005658      0.000000     -0.001027   \n",
       "\n",
       "            0005.HK.prev  0006.HK.prev  0007.HK.prev  0008.HK.prev  \\\n",
       "Date                                                                 \n",
       "2020-12-16     -0.008500     -0.009828      0.009569     -0.002077   \n",
       "2020-12-17      0.007290      0.008605      0.000000     -0.008351   \n",
       "2020-12-18      0.009639     -0.007371      0.009479      0.004184   \n",
       "\n",
       "            0010.HK.prev  0011.HK.prev  ...   6868.HK   6869.HK   6878.HK  \\\n",
       "Date                                    ...                                 \n",
       "2020-12-16     -0.008351      0.003646  ...  0.006814  0.037023  0.000000   \n",
       "2020-12-17      0.005227     -0.000728  ... -0.001699  0.011719  0.013423   \n",
       "2020-12-18      0.010373     -0.004380  ...  0.000000  0.011583 -0.013423   \n",
       "\n",
       "             6881.HK   6886.HK   6889.HK   6890.HK   6893.HK   6896.HK  \\\n",
       "Date                                                                     \n",
       "2020-12-16  0.006543  0.000000 -0.011187 -0.012903 -0.058269  0.007067   \n",
       "2020-12-17  0.012959  0.003478 -0.007528  0.012903  0.039221  0.000000   \n",
       "2020-12-18 -0.019502  0.018917  0.000000  0.012739  0.091808 -0.014185   \n",
       "\n",
       "             9988.HK  \n",
       "Date                  \n",
       "2020-12-16  0.020121  \n",
       "2020-12-17  0.027507  \n",
       "2020-12-18 -0.009346  \n",
       "\n",
       "[3 rows x 2438 columns]"
      ]
     },
     "execution_count": 10,
     "metadata": {},
     "output_type": "execute_result"
    }
   ],
   "source": [
    "comb_df.tail(3)"
   ]
  },
  {
   "cell_type": "code",
   "execution_count": 11,
   "metadata": {},
   "outputs": [],
   "source": [
    "prevday_returns = comb_df[new_col]\n",
    "today_returns = comb_df[stocks_today]"
   ]
  },
  {
   "cell_type": "code",
   "execution_count": null,
   "metadata": {},
   "outputs": [],
   "source": [
    "prev_col = [x for x in comb_df.columns.to_list() if '.prev' in x]"
   ]
  },
  {
   "cell_type": "code",
   "execution_count": null,
   "metadata": {},
   "outputs": [],
   "source": [
    "comb_df[prev_col].dropna(axis=0, how='all')"
   ]
  },
  {
   "cell_type": "code",
   "execution_count": null,
   "metadata": {},
   "outputs": [],
   "source": [
    "comb_df.loc['2019-12-23', prev_col]"
   ]
  },
  {
   "cell_type": "code",
   "execution_count": null,
   "metadata": {},
   "outputs": [],
   "source": [
    "comb_df.isnull().values.any()"
   ]
  },
  {
   "cell_type": "code",
   "execution_count": null,
   "metadata": {},
   "outputs": [],
   "source": [
    "comb_df.dropna(axis=0, how='all', inplace=True)"
   ]
  },
  {
   "cell_type": "code",
   "execution_count": null,
   "metadata": {},
   "outputs": [],
   "source": [
    "comb_df.head(3)"
   ]
  },
  {
   "cell_type": "code",
   "execution_count": null,
   "metadata": {},
   "outputs": [],
   "source": [
    "prevday_returns = comb_df[new_col]\n",
    "today_returns = comb_df[stocks_today]"
   ]
  },
  {
   "cell_type": "code",
   "execution_count": null,
   "metadata": {},
   "outputs": [],
   "source": [
    "comb_df.tail(3)"
   ]
  },
  {
   "cell_type": "code",
   "execution_count": 12,
   "metadata": {},
   "outputs": [],
   "source": [
    "def get_linear_regression(pair, prevday_returns, today_returns):\n",
    "    catstock = pair['prev']\n",
    "    column = pair['today']\n",
    "    X = prevday_returns[[catstock]].copy()\n",
    "    X = sm.add_constant(X)\n",
    "    y = today_returns[[column]]\n",
    "    model = sm.OLS(y, X).fit()\n",
    "    data = {\n",
    "        'Prev' : catstock,\n",
    "        'Today' : column,\n",
    "        'Params' : model.params.iloc[1],\n",
    "        'TValues' : abs(model.tvalues.iloc[1]),\n",
    "        'RSquared' : model.rsquared\n",
    "    }\n",
    "    return data"
   ]
  },
  {
   "cell_type": "markdown",
   "metadata": {},
   "source": [
    "### Compare linear regression for 2 selected stocks"
   ]
  },
  {
   "cell_type": "code",
   "execution_count": null,
   "metadata": {},
   "outputs": [],
   "source": [
    "prev_stock = '6190.HK.prev'\n",
    "today_stock = '0247.HK'\n",
    "prevday_returns[prev_stock]\n",
    "today_returns[today_stock]"
   ]
  },
  {
   "cell_type": "code",
   "execution_count": null,
   "metadata": {},
   "outputs": [],
   "source": [
    "prevday_returns"
   ]
  },
  {
   "cell_type": "markdown",
   "metadata": {},
   "source": [
    "### Non parallel processing"
   ]
  },
  {
   "cell_type": "code",
   "execution_count": null,
   "metadata": {},
   "outputs": [],
   "source": [
    "%%time\n",
    "catstocks = new_col\n",
    "catstocks = ['0008.HK.prev', '0010.HK.prev']\n",
    "pair_list = []\n",
    "for catstock in catstocks:\n",
    "    for column in today_returns.columns:\n",
    "        if column not in catstock:\n",
    "            data = {\n",
    "                'prev' : catstock,\n",
    "                'today' : column\n",
    "            }\n",
    "            pair_list.append(data)\n",
    "#\n",
    "results = [get_linear_regression(pair, prevday_returns, today_returns) for pair in pair_list]\n",
    "result_df = pd.DataFrame(results)\n",
    "result_df"
   ]
  },
  {
   "cell_type": "markdown",
   "metadata": {},
   "source": [
    "### Parrallel processing"
   ]
  },
  {
   "cell_type": "code",
   "execution_count": 13,
   "metadata": {},
   "outputs": [
    {
     "name": "stdout",
     "output_type": "stream",
     "text": [
      "cpu count = 16\n"
     ]
    },
    {
     "name": "stderr",
     "output_type": "stream",
     "text": [
      "/home/ec2-user/anaconda3/envs/slacktrading/lib/python3.7/site-packages/numpy/core/fromnumeric.py:2542: FutureWarning: Method .ptp is deprecated and will be removed in a future version. Use numpy.ptp instead.\n",
      "  return ptp(axis=axis, out=out, **kwargs)\n",
      "/home/ec2-user/anaconda3/envs/slacktrading/lib/python3.7/site-packages/numpy/core/fromnumeric.py:2542: FutureWarning: Method .ptp is deprecated and will be removed in a future version. Use numpy.ptp instead.\n",
      "  return ptp(axis=axis, out=out, **kwargs)\n",
      "/home/ec2-user/anaconda3/envs/slacktrading/lib/python3.7/site-packages/numpy/core/fromnumeric.py:2542: FutureWarning: Method .ptp is deprecated and will be removed in a future version. Use numpy.ptp instead.\n",
      "  return ptp(axis=axis, out=out, **kwargs)\n",
      "/home/ec2-user/anaconda3/envs/slacktrading/lib/python3.7/site-packages/numpy/core/fromnumeric.py:2542: FutureWarning: Method .ptp is deprecated and will be removed in a future version. Use numpy.ptp instead.\n",
      "  return ptp(axis=axis, out=out, **kwargs)\n",
      "/home/ec2-user/anaconda3/envs/slacktrading/lib/python3.7/site-packages/numpy/core/fromnumeric.py:2542: FutureWarning: Method .ptp is deprecated and will be removed in a future version. Use numpy.ptp instead.\n",
      "  return ptp(axis=axis, out=out, **kwargs)\n",
      "/home/ec2-user/anaconda3/envs/slacktrading/lib/python3.7/site-packages/numpy/core/fromnumeric.py:2542: FutureWarning: Method .ptp is deprecated and will be removed in a future version. Use numpy.ptp instead.\n",
      "  return ptp(axis=axis, out=out, **kwargs)\n",
      "/home/ec2-user/anaconda3/envs/slacktrading/lib/python3.7/site-packages/numpy/core/fromnumeric.py:2542: FutureWarning: Method .ptp is deprecated and will be removed in a future version. Use numpy.ptp instead.\n",
      "  return ptp(axis=axis, out=out, **kwargs)\n",
      "/home/ec2-user/anaconda3/envs/slacktrading/lib/python3.7/site-packages/numpy/core/fromnumeric.py:2542: FutureWarning: Method .ptp is deprecated and will be removed in a future version. Use numpy.ptp instead.\n",
      "  return ptp(axis=axis, out=out, **kwargs)\n",
      "/home/ec2-user/anaconda3/envs/slacktrading/lib/python3.7/site-packages/numpy/core/fromnumeric.py:2542: FutureWarning: Method .ptp is deprecated and will be removed in a future version. Use numpy.ptp instead.\n",
      "  return ptp(axis=axis, out=out, **kwargs)\n",
      "/home/ec2-user/anaconda3/envs/slacktrading/lib/python3.7/site-packages/numpy/core/fromnumeric.py:2542: FutureWarning: Method .ptp is deprecated and will be removed in a future version. Use numpy.ptp instead.\n",
      "  return ptp(axis=axis, out=out, **kwargs)\n",
      "/home/ec2-user/anaconda3/envs/slacktrading/lib/python3.7/site-packages/numpy/core/fromnumeric.py:2542: FutureWarning: Method .ptp is deprecated and will be removed in a future version. Use numpy.ptp instead.\n",
      "  return ptp(axis=axis, out=out, **kwargs)\n",
      "/home/ec2-user/anaconda3/envs/slacktrading/lib/python3.7/site-packages/numpy/core/fromnumeric.py:2542: FutureWarning: Method .ptp is deprecated and will be removed in a future version. Use numpy.ptp instead.\n",
      "  return ptp(axis=axis, out=out, **kwargs)\n",
      "/home/ec2-user/anaconda3/envs/slacktrading/lib/python3.7/site-packages/numpy/core/fromnumeric.py:2542: FutureWarning: Method .ptp is deprecated and will be removed in a future version. Use numpy.ptp instead.\n",
      "  return ptp(axis=axis, out=out, **kwargs)\n",
      "/home/ec2-user/anaconda3/envs/slacktrading/lib/python3.7/site-packages/numpy/core/fromnumeric.py:2542: FutureWarning: Method .ptp is deprecated and will be removed in a future version. Use numpy.ptp instead.\n",
      "  return ptp(axis=axis, out=out, **kwargs)\n",
      "/home/ec2-user/anaconda3/envs/slacktrading/lib/python3.7/site-packages/numpy/core/fromnumeric.py:2542: FutureWarning: Method .ptp is deprecated and will be removed in a future version. Use numpy.ptp instead.\n",
      "  return ptp(axis=axis, out=out, **kwargs)\n",
      "/home/ec2-user/anaconda3/envs/slacktrading/lib/python3.7/site-packages/numpy/core/fromnumeric.py:2542: FutureWarning: Method .ptp is deprecated and will be removed in a future version. Use numpy.ptp instead.\n",
      "  return ptp(axis=axis, out=out, **kwargs)\n",
      "/home/ec2-user/anaconda3/envs/slacktrading/lib/python3.7/site-packages/statsmodels/base/model.py:1294: RuntimeWarning: invalid value encountered in true_divide\n",
      "  return self.params / self.bse\n",
      "/home/ec2-user/anaconda3/envs/slacktrading/lib/python3.7/site-packages/statsmodels/regression/linear_model.py:1636: RuntimeWarning: invalid value encountered in double_scalars\n",
      "  return 1 - self.ssr/self.centered_tss\n",
      "/home/ec2-user/anaconda3/envs/slacktrading/lib/python3.7/site-packages/statsmodels/base/model.py:1294: RuntimeWarning: invalid value encountered in true_divide\n",
      "  return self.params / self.bse\n",
      "/home/ec2-user/anaconda3/envs/slacktrading/lib/python3.7/site-packages/statsmodels/regression/linear_model.py:1636: RuntimeWarning: invalid value encountered in double_scalars\n",
      "  return 1 - self.ssr/self.centered_tss\n",
      "/home/ec2-user/anaconda3/envs/slacktrading/lib/python3.7/site-packages/statsmodels/base/model.py:1294: RuntimeWarning: invalid value encountered in true_divide\n",
      "  return self.params / self.bse\n",
      "/home/ec2-user/anaconda3/envs/slacktrading/lib/python3.7/site-packages/statsmodels/regression/linear_model.py:1636: RuntimeWarning: invalid value encountered in double_scalars\n",
      "  return 1 - self.ssr/self.centered_tss\n",
      "/home/ec2-user/anaconda3/envs/slacktrading/lib/python3.7/site-packages/statsmodels/base/model.py:1294: RuntimeWarning: invalid value encountered in true_divide\n",
      "  return self.params / self.bse\n",
      "/home/ec2-user/anaconda3/envs/slacktrading/lib/python3.7/site-packages/statsmodels/regression/linear_model.py:1636: RuntimeWarning: invalid value encountered in double_scalars\n",
      "  return 1 - self.ssr/self.centered_tss\n",
      "/home/ec2-user/anaconda3/envs/slacktrading/lib/python3.7/site-packages/statsmodels/base/model.py:1294: RuntimeWarning: invalid value encountered in true_divide\n",
      "  return self.params / self.bse\n",
      "/home/ec2-user/anaconda3/envs/slacktrading/lib/python3.7/site-packages/statsmodels/regression/linear_model.py:1636: RuntimeWarning: invalid value encountered in double_scalars\n",
      "  return 1 - self.ssr/self.centered_tss\n",
      "/home/ec2-user/anaconda3/envs/slacktrading/lib/python3.7/site-packages/statsmodels/base/model.py:1294: RuntimeWarning: invalid value encountered in true_divide\n",
      "  return self.params / self.bse\n",
      "/home/ec2-user/anaconda3/envs/slacktrading/lib/python3.7/site-packages/statsmodels/regression/linear_model.py:1636: RuntimeWarning: invalid value encountered in double_scalars\n",
      "  return 1 - self.ssr/self.centered_tss\n",
      "/home/ec2-user/anaconda3/envs/slacktrading/lib/python3.7/site-packages/statsmodels/base/model.py:1294: RuntimeWarning: invalid value encountered in true_divide\n",
      "  return self.params / self.bse\n",
      "/home/ec2-user/anaconda3/envs/slacktrading/lib/python3.7/site-packages/statsmodels/regression/linear_model.py:1636: RuntimeWarning: invalid value encountered in double_scalars\n",
      "  return 1 - self.ssr/self.centered_tss\n",
      "/home/ec2-user/anaconda3/envs/slacktrading/lib/python3.7/site-packages/statsmodels/base/model.py:1294: RuntimeWarning: invalid value encountered in true_divide\n",
      "  return self.params / self.bse\n",
      "/home/ec2-user/anaconda3/envs/slacktrading/lib/python3.7/site-packages/statsmodels/regression/linear_model.py:1636: RuntimeWarning: invalid value encountered in double_scalars\n",
      "  return 1 - self.ssr/self.centered_tss\n",
      "/home/ec2-user/anaconda3/envs/slacktrading/lib/python3.7/site-packages/statsmodels/base/model.py:1294: RuntimeWarning: invalid value encountered in true_divide\n",
      "  return self.params / self.bse\n",
      "/home/ec2-user/anaconda3/envs/slacktrading/lib/python3.7/site-packages/statsmodels/regression/linear_model.py:1636: RuntimeWarning: invalid value encountered in double_scalars\n",
      "  return 1 - self.ssr/self.centered_tss\n",
      "/home/ec2-user/anaconda3/envs/slacktrading/lib/python3.7/site-packages/statsmodels/base/model.py:1294: RuntimeWarning: invalid value encountered in true_divide\n",
      "  return self.params / self.bse\n",
      "/home/ec2-user/anaconda3/envs/slacktrading/lib/python3.7/site-packages/statsmodels/regression/linear_model.py:1636: RuntimeWarning: invalid value encountered in double_scalars\n",
      "  return 1 - self.ssr/self.centered_tss\n",
      "/home/ec2-user/anaconda3/envs/slacktrading/lib/python3.7/site-packages/statsmodels/base/model.py:1294: RuntimeWarning: invalid value encountered in true_divide\n",
      "  return self.params / self.bse\n"
     ]
    },
    {
     "name": "stderr",
     "output_type": "stream",
     "text": [
      "/home/ec2-user/anaconda3/envs/slacktrading/lib/python3.7/site-packages/statsmodels/regression/linear_model.py:1636: RuntimeWarning: invalid value encountered in double_scalars\n",
      "  return 1 - self.ssr/self.centered_tss\n",
      "/home/ec2-user/anaconda3/envs/slacktrading/lib/python3.7/site-packages/statsmodels/base/model.py:1294: RuntimeWarning: invalid value encountered in true_divide\n",
      "  return self.params / self.bse\n",
      "/home/ec2-user/anaconda3/envs/slacktrading/lib/python3.7/site-packages/statsmodels/regression/linear_model.py:1636: RuntimeWarning: invalid value encountered in double_scalars\n",
      "  return 1 - self.ssr/self.centered_tss\n",
      "/home/ec2-user/anaconda3/envs/slacktrading/lib/python3.7/site-packages/statsmodels/base/model.py:1294: RuntimeWarning: invalid value encountered in true_divide\n",
      "  return self.params / self.bse\n",
      "/home/ec2-user/anaconda3/envs/slacktrading/lib/python3.7/site-packages/statsmodels/regression/linear_model.py:1636: RuntimeWarning: invalid value encountered in double_scalars\n",
      "  return 1 - self.ssr/self.centered_tss\n",
      "/home/ec2-user/anaconda3/envs/slacktrading/lib/python3.7/site-packages/statsmodels/base/model.py:1294: RuntimeWarning: invalid value encountered in true_divide\n",
      "  return self.params / self.bse\n",
      "/home/ec2-user/anaconda3/envs/slacktrading/lib/python3.7/site-packages/statsmodels/regression/linear_model.py:1636: RuntimeWarning: invalid value encountered in double_scalars\n",
      "  return 1 - self.ssr/self.centered_tss\n",
      "/home/ec2-user/anaconda3/envs/slacktrading/lib/python3.7/site-packages/statsmodels/base/model.py:1294: RuntimeWarning: invalid value encountered in true_divide\n",
      "  return self.params / self.bse\n",
      "/home/ec2-user/anaconda3/envs/slacktrading/lib/python3.7/site-packages/statsmodels/regression/linear_model.py:1636: RuntimeWarning: invalid value encountered in double_scalars\n",
      "  return 1 - self.ssr/self.centered_tss\n",
      "/home/ec2-user/anaconda3/envs/slacktrading/lib/python3.7/site-packages/statsmodels/base/model.py:1294: RuntimeWarning: invalid value encountered in true_divide\n",
      "  return self.params / self.bse\n",
      "/home/ec2-user/anaconda3/envs/slacktrading/lib/python3.7/site-packages/statsmodels/regression/linear_model.py:1636: RuntimeWarning: invalid value encountered in double_scalars\n",
      "  return 1 - self.ssr/self.centered_tss\n"
     ]
    },
    {
     "name": "stdout",
     "output_type": "stream",
     "text": [
      "CPU times: user 6min 51s, sys: 18.5 s, total: 7min 10s\n",
      "Wall time: 1h 6min 41s\n"
     ]
    },
    {
     "data": {
      "text/html": [
       "<div>\n",
       "<style scoped>\n",
       "    .dataframe tbody tr th:only-of-type {\n",
       "        vertical-align: middle;\n",
       "    }\n",
       "\n",
       "    .dataframe tbody tr th {\n",
       "        vertical-align: top;\n",
       "    }\n",
       "\n",
       "    .dataframe thead th {\n",
       "        text-align: right;\n",
       "    }\n",
       "</style>\n",
       "<table border=\"1\" class=\"dataframe\">\n",
       "  <thead>\n",
       "    <tr style=\"text-align: right;\">\n",
       "      <th></th>\n",
       "      <th>Prev</th>\n",
       "      <th>Today</th>\n",
       "      <th>Params</th>\n",
       "      <th>TValues</th>\n",
       "      <th>RSquared</th>\n",
       "    </tr>\n",
       "  </thead>\n",
       "  <tbody>\n",
       "    <tr>\n",
       "      <th>0</th>\n",
       "      <td>0001.HK.prev</td>\n",
       "      <td>0002.HK</td>\n",
       "      <td>0.001164</td>\n",
       "      <td>0.029256</td>\n",
       "      <td>0.000003</td>\n",
       "    </tr>\n",
       "    <tr>\n",
       "      <th>1</th>\n",
       "      <td>0001.HK.prev</td>\n",
       "      <td>0003.HK</td>\n",
       "      <td>-0.023111</td>\n",
       "      <td>0.502208</td>\n",
       "      <td>0.001012</td>\n",
       "    </tr>\n",
       "    <tr>\n",
       "      <th>2</th>\n",
       "      <td>0001.HK.prev</td>\n",
       "      <td>0004.HK</td>\n",
       "      <td>0.068773</td>\n",
       "      <td>0.921010</td>\n",
       "      <td>0.003395</td>\n",
       "    </tr>\n",
       "    <tr>\n",
       "      <th>3</th>\n",
       "      <td>0001.HK.prev</td>\n",
       "      <td>0005.HK</td>\n",
       "      <td>0.016084</td>\n",
       "      <td>0.244368</td>\n",
       "      <td>0.000240</td>\n",
       "    </tr>\n",
       "    <tr>\n",
       "      <th>4</th>\n",
       "      <td>0001.HK.prev</td>\n",
       "      <td>0006.HK</td>\n",
       "      <td>0.071583</td>\n",
       "      <td>1.612042</td>\n",
       "      <td>0.010329</td>\n",
       "    </tr>\n",
       "    <tr>\n",
       "      <th>...</th>\n",
       "      <td>...</td>\n",
       "      <td>...</td>\n",
       "      <td>...</td>\n",
       "      <td>...</td>\n",
       "      <td>...</td>\n",
       "    </tr>\n",
       "    <tr>\n",
       "      <th>1484737</th>\n",
       "      <td>9988.HK.prev</td>\n",
       "      <td>6886.HK</td>\n",
       "      <td>-0.008726</td>\n",
       "      <td>0.138780</td>\n",
       "      <td>0.000077</td>\n",
       "    </tr>\n",
       "    <tr>\n",
       "      <th>1484738</th>\n",
       "      <td>9988.HK.prev</td>\n",
       "      <td>6889.HK</td>\n",
       "      <td>-0.041787</td>\n",
       "      <td>0.808911</td>\n",
       "      <td>0.002621</td>\n",
       "    </tr>\n",
       "    <tr>\n",
       "      <th>1484739</th>\n",
       "      <td>9988.HK.prev</td>\n",
       "      <td>6890.HK</td>\n",
       "      <td>0.095069</td>\n",
       "      <td>1.130569</td>\n",
       "      <td>0.005107</td>\n",
       "    </tr>\n",
       "    <tr>\n",
       "      <th>1484740</th>\n",
       "      <td>9988.HK.prev</td>\n",
       "      <td>6893.HK</td>\n",
       "      <td>0.004852</td>\n",
       "      <td>0.089211</td>\n",
       "      <td>0.000032</td>\n",
       "    </tr>\n",
       "    <tr>\n",
       "      <th>1484741</th>\n",
       "      <td>9988.HK.prev</td>\n",
       "      <td>6896.HK</td>\n",
       "      <td>-0.028956</td>\n",
       "      <td>0.474625</td>\n",
       "      <td>0.000904</td>\n",
       "    </tr>\n",
       "  </tbody>\n",
       "</table>\n",
       "<p>1484742 rows × 5 columns</p>\n",
       "</div>"
      ],
      "text/plain": [
       "                 Prev    Today    Params   TValues  RSquared\n",
       "0        0001.HK.prev  0002.HK  0.001164  0.029256  0.000003\n",
       "1        0001.HK.prev  0003.HK -0.023111  0.502208  0.001012\n",
       "2        0001.HK.prev  0004.HK  0.068773  0.921010  0.003395\n",
       "3        0001.HK.prev  0005.HK  0.016084  0.244368  0.000240\n",
       "4        0001.HK.prev  0006.HK  0.071583  1.612042  0.010329\n",
       "...               ...      ...       ...       ...       ...\n",
       "1484737  9988.HK.prev  6886.HK -0.008726  0.138780  0.000077\n",
       "1484738  9988.HK.prev  6889.HK -0.041787  0.808911  0.002621\n",
       "1484739  9988.HK.prev  6890.HK  0.095069  1.130569  0.005107\n",
       "1484740  9988.HK.prev  6893.HK  0.004852  0.089211  0.000032\n",
       "1484741  9988.HK.prev  6896.HK -0.028956  0.474625  0.000904\n",
       "\n",
       "[1484742 rows x 5 columns]"
      ]
     },
     "execution_count": 13,
     "metadata": {},
     "output_type": "execute_result"
    }
   ],
   "source": [
    "%%time\n",
    "catstocks = new_col\n",
    "# catstocks = ['0008.HK.prev', '0010.HK.prev']\n",
    "pair_list = []\n",
    "for catstock in catstocks:\n",
    "    for column in today_returns.columns:\n",
    "        if column not in catstock:\n",
    "            data = {\n",
    "                'prev' : catstock,\n",
    "                'today' : column\n",
    "            }\n",
    "            pair_list.append(data)\n",
    "#\n",
    "cpu = cpu_count()\n",
    "print('cpu count = {}'.format(cpu))\n",
    "executor = Parallel(n_jobs=cpu, backend='multiprocessing')\n",
    "tasks = (delayed(get_linear_regression)(pair, prevday_returns, today_returns) for pair in pair_list)\n",
    "results = executor(tasks)\n",
    "result_df = pd.DataFrame(results)\n",
    "result_df"
   ]
  },
  {
   "cell_type": "code",
   "execution_count": 14,
   "metadata": {},
   "outputs": [],
   "source": [
    "result_df.to_csv('../data/regression_pair.csv')"
   ]
  },
  {
   "cell_type": "markdown",
   "metadata": {},
   "source": [
    "### Read Regression Result"
   ]
  },
  {
   "cell_type": "code",
   "execution_count": 15,
   "metadata": {},
   "outputs": [
    {
     "name": "stderr",
     "output_type": "stream",
     "text": [
      "/home/ec2-user/anaconda3/envs/slacktrading/lib/python3.7/site-packages/numpy/lib/arraysetops.py:569: FutureWarning: elementwise comparison failed; returning scalar instead, but in the future will perform elementwise comparison\n",
      "  mask |= (ar1 == a)\n"
     ]
    }
   ],
   "source": [
    "result_df = pd.read_csv('../data/regression_pair.csv', index_col=0)"
   ]
  },
  {
   "cell_type": "code",
   "execution_count": 16,
   "metadata": {},
   "outputs": [
    {
     "data": {
      "text/html": [
       "<div>\n",
       "<style scoped>\n",
       "    .dataframe tbody tr th:only-of-type {\n",
       "        vertical-align: middle;\n",
       "    }\n",
       "\n",
       "    .dataframe tbody tr th {\n",
       "        vertical-align: top;\n",
       "    }\n",
       "\n",
       "    .dataframe thead th {\n",
       "        text-align: right;\n",
       "    }\n",
       "</style>\n",
       "<table border=\"1\" class=\"dataframe\">\n",
       "  <thead>\n",
       "    <tr style=\"text-align: right;\">\n",
       "      <th></th>\n",
       "      <th>Prev</th>\n",
       "      <th>Today</th>\n",
       "      <th>Params</th>\n",
       "      <th>TValues</th>\n",
       "      <th>RSquared</th>\n",
       "    </tr>\n",
       "  </thead>\n",
       "  <tbody>\n",
       "    <tr>\n",
       "      <th>1290422</th>\n",
       "      <td>2892.HK.prev</td>\n",
       "      <td>1121.HK</td>\n",
       "      <td>-5.219080</td>\n",
       "      <td>18.076209</td>\n",
       "      <td>0.567520</td>\n",
       "    </tr>\n",
       "    <tr>\n",
       "      <th>1381273</th>\n",
       "      <td>3878.HK.prev</td>\n",
       "      <td>0100.HK</td>\n",
       "      <td>-0.159838</td>\n",
       "      <td>14.546648</td>\n",
       "      <td>0.459407</td>\n",
       "    </tr>\n",
       "    <tr>\n",
       "      <th>651576</th>\n",
       "      <td>1076.HK.prev</td>\n",
       "      <td>6093.HK</td>\n",
       "      <td>-0.475328</td>\n",
       "      <td>13.661497</td>\n",
       "      <td>0.428423</td>\n",
       "    </tr>\n",
       "    <tr>\n",
       "      <th>75235</th>\n",
       "      <td>0100.HK.prev</td>\n",
       "      <td>2139.HK</td>\n",
       "      <td>-0.927158</td>\n",
       "      <td>12.433568</td>\n",
       "      <td>0.383043</td>\n",
       "    </tr>\n",
       "    <tr>\n",
       "      <th>430011</th>\n",
       "      <td>0676.HK.prev</td>\n",
       "      <td>0096.HK</td>\n",
       "      <td>0.501969</td>\n",
       "      <td>12.354395</td>\n",
       "      <td>0.380028</td>\n",
       "    </tr>\n",
       "    <tr>\n",
       "      <th>1184176</th>\n",
       "      <td>2300.HK.prev</td>\n",
       "      <td>0521.HK</td>\n",
       "      <td>-0.536902</td>\n",
       "      <td>11.931640</td>\n",
       "      <td>0.363764</td>\n",
       "    </tr>\n",
       "    <tr>\n",
       "      <th>749147</th>\n",
       "      <td>1243.HK.prev</td>\n",
       "      <td>0127.HK</td>\n",
       "      <td>-0.294825</td>\n",
       "      <td>11.642801</td>\n",
       "      <td>0.352498</td>\n",
       "    </tr>\n",
       "    <tr>\n",
       "      <th>618085</th>\n",
       "      <td>1004.HK.prev</td>\n",
       "      <td>1121.HK</td>\n",
       "      <td>0.859708</td>\n",
       "      <td>11.193954</td>\n",
       "      <td>0.334766</td>\n",
       "    </tr>\n",
       "    <tr>\n",
       "      <th>1112568</th>\n",
       "      <td>2014.HK.prev</td>\n",
       "      <td>1076.HK</td>\n",
       "      <td>-0.486338</td>\n",
       "      <td>11.140537</td>\n",
       "      <td>0.332639</td>\n",
       "    </tr>\n",
       "    <tr>\n",
       "      <th>204071</th>\n",
       "      <td>0281.HK.prev</td>\n",
       "      <td>1358.HK</td>\n",
       "      <td>2.618079</td>\n",
       "      <td>11.116956</td>\n",
       "      <td>0.331699</td>\n",
       "    </tr>\n",
       "  </tbody>\n",
       "</table>\n",
       "</div>"
      ],
      "text/plain": [
       "                 Prev    Today    Params    TValues  RSquared\n",
       "1290422  2892.HK.prev  1121.HK -5.219080  18.076209  0.567520\n",
       "1381273  3878.HK.prev  0100.HK -0.159838  14.546648  0.459407\n",
       "651576   1076.HK.prev  6093.HK -0.475328  13.661497  0.428423\n",
       "75235    0100.HK.prev  2139.HK -0.927158  12.433568  0.383043\n",
       "430011   0676.HK.prev  0096.HK  0.501969  12.354395  0.380028\n",
       "1184176  2300.HK.prev  0521.HK -0.536902  11.931640  0.363764\n",
       "749147   1243.HK.prev  0127.HK -0.294825  11.642801  0.352498\n",
       "618085   1004.HK.prev  1121.HK  0.859708  11.193954  0.334766\n",
       "1112568  2014.HK.prev  1076.HK -0.486338  11.140537  0.332639\n",
       "204071   0281.HK.prev  1358.HK  2.618079  11.116956  0.331699"
      ]
     },
     "execution_count": 16,
     "metadata": {},
     "output_type": "execute_result"
    }
   ],
   "source": [
    "sorted_df = result_df.sort_values(by='RSquared', ascending=False)\n",
    "sorted_df.head(10)"
   ]
  },
  {
   "cell_type": "markdown",
   "metadata": {},
   "source": [
    "### Analyze the Top pair"
   ]
  },
  {
   "cell_type": "code",
   "execution_count": 17,
   "metadata": {},
   "outputs": [
    {
     "name": "stdout",
     "output_type": "stream",
     "text": [
      "2892.HK\n",
      "[*********************100%***********************]  1 of 1 completed\n",
      "[*********************100%***********************]  1 of 1 completed\n",
      "Total prev stock rise 24\n",
      "Total prev stock rise and today rise 3\n"
     ]
    },
    {
     "name": "stderr",
     "output_type": "stream",
     "text": [
      "/home/ec2-user/anaconda3/envs/slacktrading/lib/python3.7/site-packages/pandas/plotting/_matplotlib/converter.py:103: FutureWarning: Using an implicitly registered datetime converter for a matplotlib plotting method. The converter was registered by pandas on import. Future versions of pandas will require you to explicitly register matplotlib converters.\n",
      "\n",
      "To register the converters:\n",
      "\t>>> from pandas.plotting import register_matplotlib_converters\n",
      "\t>>> register_matplotlib_converters()\n",
      "  warnings.warn(msg, FutureWarning)\n"
     ]
    },
    {
     "data": {
      "image/png": "[encoded data removed]",
      "text/plain": [
       "<Figure size 1080x1440 with 4 Axes>"
      ]
     },
     "metadata": {
      "needs_background": "light"
     },
     "output_type": "display_data"
    }
   ],
   "source": [
    "stock1 = '2892.HK.prev'\n",
    "stock2 = '1121.HK'\n",
    "#\n",
    "tools.plot_two_stocks(stock1, stock2, prevday_returns, today_returns, start)"
   ]
  },
  {
   "cell_type": "markdown",
   "metadata": {},
   "source": [
    "### Upload to AWS S3"
   ]
  },
  {
   "cell_type": "code",
   "execution_count": 23,
   "metadata": {},
   "outputs": [],
   "source": [
    "s3_bucket = 'slack-trading'\n",
    "local_path = '../data'\n",
    "tools.upload_data_to_s3(s3_bucket, local_path)"
   ]
  },
  {
   "cell_type": "markdown",
   "metadata": {},
   "source": [
    "### Verify Linear regression"
   ]
  },
  {
   "cell_type": "markdown",
   "metadata": {},
   "source": [
    "    catstock = pair['prev']\n",
    "    column = pair['today']\n",
    "    X = prevday_returns[[catstock]].copy()\n",
    "    X = sm.add_constant(X)\n",
    "    y = today_returns[[column]]\n",
    "    model = sm.OLS(y, X).fit()\n",
    "    data = {\n",
    "        'Prev' : catstock,\n",
    "        'Today' : column,\n",
    "        'Params' : model.params.iloc[1],\n",
    "        'TValues' : abs(model.tvalues.iloc[1]),\n",
    "        'RSquared' : model.rsquared\n",
    "    }"
   ]
  },
  {
   "cell_type": "code",
   "execution_count": 19,
   "metadata": {},
   "outputs": [
    {
     "data": {
      "text/plain": [
       "Date\n",
       "2019-12-13    0.000000\n",
       "2019-12-16   -0.007905\n",
       "2019-12-17    0.000000\n",
       "2019-12-18    0.000000\n",
       "2019-12-19    0.000000\n",
       "                ...   \n",
       "2020-12-14    0.000000\n",
       "2020-12-15    0.000000\n",
       "2020-12-16    0.000000\n",
       "2020-12-17    0.000000\n",
       "2020-12-18    0.000000\n",
       "Name: 2892.HK.prev, Length: 251, dtype: float64"
      ]
     },
     "execution_count": 19,
     "metadata": {},
     "output_type": "execute_result"
    }
   ],
   "source": [
    "prevday_returns[stock1]"
   ]
  },
  {
   "cell_type": "code",
   "execution_count": 20,
   "metadata": {},
   "outputs": [
    {
     "data": {
      "text/plain": [
       "Date\n",
       "2019-12-13    0.000000\n",
       "2019-12-16    0.000000\n",
       "2019-12-17    0.000000\n",
       "2019-12-18    0.046520\n",
       "2019-12-19    0.000000\n",
       "                ...   \n",
       "2020-12-14    0.000000\n",
       "2020-12-15   -0.018692\n",
       "2020-12-16    0.037041\n",
       "2020-12-17   -0.018349\n",
       "2020-12-18    0.105361\n",
       "Name: 1121.HK, Length: 251, dtype: float64"
      ]
     },
     "execution_count": 20,
     "metadata": {},
     "output_type": "execute_result"
    }
   ],
   "source": [
    "today_returns[stock2]"
   ]
  },
  {
   "cell_type": "code",
   "execution_count": 22,
   "metadata": {},
   "outputs": [
    {
     "name": "stdout",
     "output_type": "stream",
     "text": [
      "Params -5.2191 TValues -18.0762 RSquared 0.5675\n"
     ]
    }
   ],
   "source": [
    "X = prevday_returns[stock1].copy()\n",
    "X = sm.add_constant(X)\n",
    "y = today_returns[stock2]\n",
    "model = sm.OLS(y, X).fit()\n",
    "print('Params {:.4f} TValues {:.4f} RSquared {:.4f}'.format(model.params.iloc[1], model.tvalues.iloc[1], model.rsquared))"
   ]
  },
  {
   "cell_type": "code",
   "execution_count": null,
   "metadata": {},
   "outputs": [],
   "source": []
  }
 ],
 "metadata": {
  "kernelspec": {
   "display_name": "Python 3",
   "language": "python",
   "name": "python3"
  },
  "language_info": {
   "codemirror_mode": {
    "name": "ipython",
    "version": 3
   },
   "file_extension": ".py",
   "mimetype": "text/x-python",
   "name": "python",
   "nbconvert_exporter": "python",
   "pygments_lexer": "ipython3",
   "version": "3.7.7"
  }
 },
 "nbformat": 4,
 "nbformat_minor": 2
}
