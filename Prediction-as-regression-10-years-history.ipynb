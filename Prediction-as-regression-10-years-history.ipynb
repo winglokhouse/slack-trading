{
 "cells": [
  {
   "cell_type": "code",
   "execution_count": 1,
   "metadata": {},
   "outputs": [
    {
     "data": {
      "text/plain": [
       "<module 'tools' from '/home/keithyamkf/jupyter-notebook/slack-trading/tools.py'>"
      ]
     },
     "execution_count": 1,
     "metadata": {},
     "output_type": "execute_result"
    }
   ],
   "source": [
    "import pandas as pd\n",
    "import numpy as np\n",
    "import datetime as dt\n",
    "import statsmodels.api as sm\n",
    "#\n",
    "from multiprocessing import cpu_count\n",
    "from joblib import Parallel\n",
    "from joblib import delayed\n",
    "\n",
    "import tools\n",
    "import importlib\n",
    "importlib.reload(tools)"
   ]
  },
  {
   "cell_type": "code",
   "execution_count": 2,
   "metadata": {},
   "outputs": [],
   "source": [
    "import warnings"
   ]
  },
  {
   "cell_type": "code",
   "execution_count": 3,
   "metadata": {},
   "outputs": [],
   "source": [
    "from sklearn.metrics import mean_squared_error"
   ]
  },
  {
   "cell_type": "markdown",
   "metadata": {},
   "source": [
    "### Download data from AWS S3"
   ]
  },
  {
   "cell_type": "code",
   "execution_count": 4,
   "metadata": {},
   "outputs": [],
   "source": [
    "s3_bucket = 'slack-trading'\n",
    "local_path = '../data'\n",
    "tools.download_data_from_s3(s3_bucket, local_path)"
   ]
  },
  {
   "cell_type": "markdown",
   "metadata": {},
   "source": [
    "### CPU Count"
   ]
  },
  {
   "cell_type": "code",
   "execution_count": 5,
   "metadata": {},
   "outputs": [
    {
     "data": {
      "text/plain": [
       "4"
      ]
     },
     "execution_count": 5,
     "metadata": {},
     "output_type": "execute_result"
    }
   ],
   "source": [
    "cpu_count()"
   ]
  },
  {
   "cell_type": "markdown",
   "metadata": {},
   "source": [
    "### Load the dataset"
   ]
  },
  {
   "cell_type": "code",
   "execution_count": 6,
   "metadata": {},
   "outputs": [
    {
     "name": "stderr",
     "output_type": "stream",
     "text": [
      "/opt/miniconda3/envs/conda_env/lib/python3.7/site-packages/ipykernel_launcher.py:7: RuntimeWarning: invalid value encountered in log\n",
      "  import sys\n",
      "/opt/miniconda3/envs/conda_env/lib/python3.7/site-packages/ipykernel_launcher.py:8: RuntimeWarning: invalid value encountered in log\n",
      "  \n"
     ]
    }
   ],
   "source": [
    "# dataset = pd.read_csv('../data/all_stock_close.csv')\n",
    "dataset = pd.read_csv('../data/clean_10yr_stock_close.csv')\n",
    "dataset['Date'] = pd.to_datetime(dataset['Date'])\n",
    "dataset.set_index('Date', drop=True, inplace=True)\n",
    "dataset.head(3)\n",
    "#\n",
    "prevday_returns = np.log(dataset.shift(1)/dataset.shift(2))\n",
    "today_returns = np.log(dataset/dataset.shift(1))\n",
    "#\n",
    "stocks_prev = prevday_returns.columns.to_list()\n",
    "stocks_today = today_returns.columns.to_list()\n",
    "#\n",
    "new_col = ['{}.prev'.format(c) for c in stocks_prev]\n",
    "prevday_returns.columns = new_col\n",
    "#\n",
    "comb_df = pd.concat([prevday_returns, today_returns], axis=1)\n",
    "#"
   ]
  },
  {
   "cell_type": "code",
   "execution_count": 7,
   "metadata": {},
   "outputs": [],
   "source": [
    "# Find the NaN in comb_df\n",
    "comb_df.dropna(axis=0, how='any', inplace=True)\n",
    "prevday_returns = comb_df[new_col]\n",
    "today_returns = comb_df[stocks_today]"
   ]
  },
  {
   "cell_type": "markdown",
   "metadata": {},
   "source": [
    "### Count number of Null"
   ]
  },
  {
   "cell_type": "code",
   "execution_count": 9,
   "metadata": {},
   "outputs": [
    {
     "data": {
      "text/plain": [
       "0"
      ]
     },
     "execution_count": 9,
     "metadata": {},
     "output_type": "execute_result"
    }
   ],
   "source": [
    "comb_df.isna().sum().sum()"
   ]
  },
  {
   "cell_type": "markdown",
   "metadata": {},
   "source": [
    "### Begin"
   ]
  },
  {
   "cell_type": "code",
   "execution_count": 10,
   "metadata": {},
   "outputs": [],
   "source": [
    "train_prevday_returns = prevday_returns['2011-01-01':'2011-12-31']\n",
    "train_today_returns = today_returns['2011-01-01':'2011-12-31']"
   ]
  },
  {
   "cell_type": "markdown",
   "metadata": {},
   "source": [
    "### How R-Squared is impacted by number of independent variabkles"
   ]
  },
  {
   "cell_type": "code",
   "execution_count": 11,
   "metadata": {},
   "outputs": [
    {
     "data": {
      "text/html": [
       "<div>\n",
       "<style scoped>\n",
       "    .dataframe tbody tr th:only-of-type {\n",
       "        vertical-align: middle;\n",
       "    }\n",
       "\n",
       "    .dataframe tbody tr th {\n",
       "        vertical-align: top;\n",
       "    }\n",
       "\n",
       "    .dataframe thead th {\n",
       "        text-align: right;\n",
       "    }\n",
       "</style>\n",
       "<table border=\"1\" class=\"dataframe\">\n",
       "  <thead>\n",
       "    <tr style=\"text-align: right;\">\n",
       "      <th></th>\n",
       "      <th>Prev</th>\n",
       "      <th>Today</th>\n",
       "      <th>Params</th>\n",
       "      <th>TValues</th>\n",
       "      <th>RSquared</th>\n",
       "    </tr>\n",
       "  </thead>\n",
       "  <tbody>\n",
       "    <tr>\n",
       "      <th>105662</th>\n",
       "      <td>0266.HK.prev</td>\n",
       "      <td>0952.HK</td>\n",
       "      <td>2.649805</td>\n",
       "      <td>12.019270</td>\n",
       "      <td>0.376732</td>\n",
       "    </tr>\n",
       "    <tr>\n",
       "      <th>78835</th>\n",
       "      <td>0202.HK.prev</td>\n",
       "      <td>2323.HK</td>\n",
       "      <td>0.320183</td>\n",
       "      <td>10.821554</td>\n",
       "      <td>0.328852</td>\n",
       "    </tr>\n",
       "    <tr>\n",
       "      <th>505157</th>\n",
       "      <td>6823.HK.prev</td>\n",
       "      <td>0720.HK</td>\n",
       "      <td>-0.164451</td>\n",
       "      <td>10.590726</td>\n",
       "      <td>0.319405</td>\n",
       "    </tr>\n",
       "    <tr>\n",
       "      <th>146207</th>\n",
       "      <td>0373.HK.prev</td>\n",
       "      <td>1003.HK</td>\n",
       "      <td>1.269128</td>\n",
       "      <td>10.487185</td>\n",
       "      <td>0.315149</td>\n",
       "    </tr>\n",
       "    <tr>\n",
       "      <th>93850</th>\n",
       "      <td>0237.HK.prev</td>\n",
       "      <td>6823.HK</td>\n",
       "      <td>4.080449</td>\n",
       "      <td>9.024117</td>\n",
       "      <td>0.254138</td>\n",
       "    </tr>\n",
       "    <tr>\n",
       "      <th>100075</th>\n",
       "      <td>0252.HK.prev</td>\n",
       "      <td>1223.HK</td>\n",
       "      <td>0.355371</td>\n",
       "      <td>8.542976</td>\n",
       "      <td>0.233931</td>\n",
       "    </tr>\n",
       "    <tr>\n",
       "      <th>99723</th>\n",
       "      <td>0252.HK.prev</td>\n",
       "      <td>0335.HK</td>\n",
       "      <td>0.531738</td>\n",
       "      <td>7.433766</td>\n",
       "      <td>0.187796</td>\n",
       "    </tr>\n",
       "    <tr>\n",
       "      <th>110118</th>\n",
       "      <td>0273.HK.prev</td>\n",
       "      <td>2319.HK</td>\n",
       "      <td>0.088103</td>\n",
       "      <td>7.204243</td>\n",
       "      <td>0.178415</td>\n",
       "    </tr>\n",
       "    <tr>\n",
       "      <th>52634</th>\n",
       "      <td>0128.HK.prev</td>\n",
       "      <td>0026.HK</td>\n",
       "      <td>0.084249</td>\n",
       "      <td>7.121023</td>\n",
       "      <td>0.175034</td>\n",
       "    </tr>\n",
       "    <tr>\n",
       "      <th>109751</th>\n",
       "      <td>0273.HK.prev</td>\n",
       "      <td>0526.HK</td>\n",
       "      <td>-0.140514</td>\n",
       "      <td>6.798294</td>\n",
       "      <td>0.162041</td>\n",
       "    </tr>\n",
       "  </tbody>\n",
       "</table>\n",
       "</div>"
      ],
      "text/plain": [
       "                Prev    Today    Params    TValues  RSquared\n",
       "105662  0266.HK.prev  0952.HK  2.649805  12.019270  0.376732\n",
       "78835   0202.HK.prev  2323.HK  0.320183  10.821554  0.328852\n",
       "505157  6823.HK.prev  0720.HK -0.164451  10.590726  0.319405\n",
       "146207  0373.HK.prev  1003.HK  1.269128  10.487185  0.315149\n",
       "93850   0237.HK.prev  6823.HK  4.080449   9.024117  0.254138\n",
       "100075  0252.HK.prev  1223.HK  0.355371   8.542976  0.233931\n",
       "99723   0252.HK.prev  0335.HK  0.531738   7.433766  0.187796\n",
       "110118  0273.HK.prev  2319.HK  0.088103   7.204243  0.178415\n",
       "52634   0128.HK.prev  0026.HK  0.084249   7.121023  0.175034\n",
       "109751  0273.HK.prev  0526.HK -0.140514   6.798294  0.162041"
      ]
     },
     "execution_count": 11,
     "metadata": {},
     "output_type": "execute_result"
    }
   ],
   "source": [
    "# result_df = pd.read_csv('../data/regression_pair.csv', index_col=0)\n",
    "result_df = pd.read_csv('../data/10yr_regression_pair.csv', index_col=0)\n",
    "sorted_df = result_df.sort_values(by='RSquared', ascending=False)\n",
    "sorted_df.head(10)"
   ]
  },
  {
   "cell_type": "code",
   "execution_count": 12,
   "metadata": {},
   "outputs": [],
   "source": [
    "filtered_df = result_df[result_df['Today']=='0952.HK'].sort_values(by='RSquared', ascending=False)"
   ]
  },
  {
   "cell_type": "code",
   "execution_count": 13,
   "metadata": {},
   "outputs": [
    {
     "name": "stderr",
     "output_type": "stream",
     "text": [
      "/opt/miniconda3/envs/conda_env/lib/python3.7/site-packages/numpy/core/fromnumeric.py:2542: FutureWarning: Method .ptp is deprecated and will be removed in a future version. Use numpy.ptp instead.\n",
      "  return ptp(axis=axis, out=out, **kwargs)\n"
     ]
    }
   ],
   "source": [
    "dep_variable = '0952.HK'\n",
    "indp_rsq_ls = list()\n",
    "for i in range(1,200):\n",
    "    indp_variables = filtered_df['Prev'].to_list()[:i]\n",
    "    X = train_prevday_returns[indp_variables].copy()\n",
    "    X = sm.add_constant(X)\n",
    "    y = train_today_returns[dep_variable]\n",
    "    model = sm.OLS(y, X).fit()\n",
    "    #\n",
    "    outcome_dict = {\n",
    "        'no_var' : i,\n",
    "        'rsquared' : model.rsquared\n",
    "    }\n",
    "    indp_rsq_ls.append(outcome_dict)\n",
    "    #"
   ]
  },
  {
   "cell_type": "code",
   "execution_count": 14,
   "metadata": {},
   "outputs": [
    {
     "data": {
      "text/html": [
       "<div>\n",
       "<style scoped>\n",
       "    .dataframe tbody tr th:only-of-type {\n",
       "        vertical-align: middle;\n",
       "    }\n",
       "\n",
       "    .dataframe tbody tr th {\n",
       "        vertical-align: top;\n",
       "    }\n",
       "\n",
       "    .dataframe thead th {\n",
       "        text-align: right;\n",
       "    }\n",
       "</style>\n",
       "<table border=\"1\" class=\"dataframe\">\n",
       "  <thead>\n",
       "    <tr style=\"text-align: right;\">\n",
       "      <th></th>\n",
       "      <th>no_var</th>\n",
       "      <th>rsquared</th>\n",
       "    </tr>\n",
       "  </thead>\n",
       "  <tbody>\n",
       "    <tr>\n",
       "      <th>0</th>\n",
       "      <td>1</td>\n",
       "      <td>0.376732</td>\n",
       "    </tr>\n",
       "    <tr>\n",
       "      <th>1</th>\n",
       "      <td>2</td>\n",
       "      <td>0.394950</td>\n",
       "    </tr>\n",
       "    <tr>\n",
       "      <th>2</th>\n",
       "      <td>3</td>\n",
       "      <td>0.403925</td>\n",
       "    </tr>\n",
       "    <tr>\n",
       "      <th>3</th>\n",
       "      <td>4</td>\n",
       "      <td>0.416497</td>\n",
       "    </tr>\n",
       "    <tr>\n",
       "      <th>4</th>\n",
       "      <td>5</td>\n",
       "      <td>0.431695</td>\n",
       "    </tr>\n",
       "  </tbody>\n",
       "</table>\n",
       "</div>"
      ],
      "text/plain": [
       "   no_var  rsquared\n",
       "0       1  0.376732\n",
       "1       2  0.394950\n",
       "2       3  0.403925\n",
       "3       4  0.416497\n",
       "4       5  0.431695"
      ]
     },
     "execution_count": 14,
     "metadata": {},
     "output_type": "execute_result"
    }
   ],
   "source": [
    "indp_rsq_df = pd.DataFrame(indp_rsq_ls)\n",
    "indp_rsq_df[:5]"
   ]
  },
  {
   "cell_type": "code",
   "execution_count": 15,
   "metadata": {},
   "outputs": [],
   "source": [
    "import matplotlib.pyplot as plt\n",
    "import matplotlib.dates as mdates\n",
    "def plot_two_stocks(dep_variable, x, y):\n",
    "    fig, ax = plt.subplots()  # Create a figure containing a single axes.\n",
    "    ax.set_xlabel('Number of independent variables')\n",
    "    ax.set_ylabel('R Squared')\n",
    "    ax.set_title('Dependent Variable : {}'.format(dep_variable))\n",
    "    ax.plot(x, y)  # Plot some data on the axes."
   ]
  },
  {
   "cell_type": "code",
   "execution_count": 16,
   "metadata": {},
   "outputs": [
    {
     "data": {
      "image/png": "[encoded data removed]",
      "text/plain": [
       "<Figure size 432x288 with 1 Axes>"
      ]
     },
     "metadata": {
      "needs_background": "light"
     },
     "output_type": "display_data"
    }
   ],
   "source": [
    "plot_two_stocks(dep_variable, indp_rsq_df['no_var'], indp_rsq_df['rsquared'])"
   ]
  },
  {
   "cell_type": "markdown",
   "metadata": {},
   "source": [
    "### Conclusion : The more the independent variables, the better the R Squared score"
   ]
  },
  {
   "cell_type": "markdown",
   "metadata": {},
   "source": [
    "### How to create different sets of independent variables"
   ]
  },
  {
   "cell_type": "code",
   "execution_count": 17,
   "metadata": {},
   "outputs": [
    {
     "data": {
      "text/html": [
       "<div>\n",
       "<style scoped>\n",
       "    .dataframe tbody tr th:only-of-type {\n",
       "        vertical-align: middle;\n",
       "    }\n",
       "\n",
       "    .dataframe tbody tr th {\n",
       "        vertical-align: top;\n",
       "    }\n",
       "\n",
       "    .dataframe thead th {\n",
       "        text-align: right;\n",
       "    }\n",
       "</style>\n",
       "<table border=\"1\" class=\"dataframe\">\n",
       "  <thead>\n",
       "    <tr style=\"text-align: right;\">\n",
       "      <th></th>\n",
       "      <th>Prev</th>\n",
       "      <th>Today</th>\n",
       "      <th>Params</th>\n",
       "      <th>TValues</th>\n",
       "      <th>RSquared</th>\n",
       "    </tr>\n",
       "  </thead>\n",
       "  <tbody>\n",
       "    <tr>\n",
       "      <th>105662</th>\n",
       "      <td>0266.HK.prev</td>\n",
       "      <td>0952.HK</td>\n",
       "      <td>2.649805</td>\n",
       "      <td>12.019270</td>\n",
       "      <td>0.376732</td>\n",
       "    </tr>\n",
       "    <tr>\n",
       "      <th>78644</th>\n",
       "      <td>0202.HK.prev</td>\n",
       "      <td>0952.HK</td>\n",
       "      <td>0.223133</td>\n",
       "      <td>4.917942</td>\n",
       "      <td>0.091898</td>\n",
       "    </tr>\n",
       "    <tr>\n",
       "      <th>91442</th>\n",
       "      <td>0230.HK.prev</td>\n",
       "      <td>0952.HK</td>\n",
       "      <td>0.487336</td>\n",
       "      <td>4.621666</td>\n",
       "      <td>0.082040</td>\n",
       "    </tr>\n",
       "    <tr>\n",
       "      <th>445521</th>\n",
       "      <td>2323.HK.prev</td>\n",
       "      <td>0952.HK</td>\n",
       "      <td>0.366832</td>\n",
       "      <td>4.478712</td>\n",
       "      <td>0.077430</td>\n",
       "    </tr>\n",
       "    <tr>\n",
       "      <th>342426</th>\n",
       "      <td>1085.HK.prev</td>\n",
       "      <td>0952.HK</td>\n",
       "      <td>0.355409</td>\n",
       "      <td>4.276464</td>\n",
       "      <td>0.071080</td>\n",
       "    </tr>\n",
       "  </tbody>\n",
       "</table>\n",
       "</div>"
      ],
      "text/plain": [
       "                Prev    Today    Params    TValues  RSquared\n",
       "105662  0266.HK.prev  0952.HK  2.649805  12.019270  0.376732\n",
       "78644   0202.HK.prev  0952.HK  0.223133   4.917942  0.091898\n",
       "91442   0230.HK.prev  0952.HK  0.487336   4.621666  0.082040\n",
       "445521  2323.HK.prev  0952.HK  0.366832   4.478712  0.077430\n",
       "342426  1085.HK.prev  0952.HK  0.355409   4.276464  0.071080"
      ]
     },
     "execution_count": 17,
     "metadata": {},
     "output_type": "execute_result"
    }
   ],
   "source": [
    "filtered_df[:5]"
   ]
  },
  {
   "cell_type": "markdown",
   "metadata": {},
   "source": [
    "### Train and Test - Regression Error"
   ]
  },
  {
   "cell_type": "code",
   "execution_count": 18,
   "metadata": {},
   "outputs": [],
   "source": [
    "from datetime import datetime\n",
    "from dateutil.relativedelta import relativedelta"
   ]
  },
  {
   "cell_type": "code",
   "execution_count": 19,
   "metadata": {},
   "outputs": [],
   "source": [
    "depd_stock = \"0952.HK\"\n",
    "indepd_set = [4, 50]"
   ]
  },
  {
   "cell_type": "code",
   "execution_count": 20,
   "metadata": {},
   "outputs": [],
   "source": [
    "warnings.filterwarnings(\"ignore\")"
   ]
  },
  {
   "cell_type": "code",
   "execution_count": 21,
   "metadata": {},
   "outputs": [
    {
     "name": "stdout",
     "output_type": "stream",
     "text": [
      "4 independent variables\n",
      "    in start     in end  out start    out end    in mse   out mse  in mse to out mse ratio\n",
      "0 2011-01-01 2011-12-31 2012-01-01 2012-03-31  0.001834  0.001067                 1.719264\n",
      "1 2011-04-01 2012-03-31 2012-04-01 2012-06-30  0.001739  0.001331                 1.306581\n",
      "2 2011-07-01 2012-06-30 2012-07-01 2012-09-30  0.001653  0.002331                 0.708933\n",
      "3 2011-10-01 2012-09-30 2012-10-01 2012-12-30  0.001706  0.001395                 1.222815\n",
      "4 2012-01-01 2012-12-30 2013-01-01 2013-03-30  0.000988  0.000856                 1.155012\n",
      "5 2012-04-01 2013-03-30 2013-04-01 2013-06-30  0.000975  0.001581                 0.616926\n",
      "6 2012-07-01 2013-06-30 2013-07-01 2013-09-30  0.001051  0.001305                 0.805504\n",
      "7 2012-10-01 2013-09-30 2013-10-01 2013-12-30  0.001057  0.002190                 0.482414\n",
      "8 2013-01-01 2013-12-30 2014-01-01 2014-03-30  0.001424  0.001294                 1.100188\n",
      "9 2013-04-01 2014-03-30 2014-04-01 2014-06-30  0.001544  0.000910                 1.695701\n",
      "          in mse    out mse  in mse to out mse ratio\n",
      "count  10.000000  10.000000                10.000000\n",
      "mean    0.001397   0.001426                 1.081334\n",
      "std     0.000345   0.000493                 0.428185\n",
      "min     0.000975   0.000856                 0.482414\n",
      "25%     0.001052   0.001124                 0.733076\n",
      "50%     0.001484   0.001318                 1.127600\n",
      "75%     0.001693   0.001535                 1.285640\n",
      "max     0.001834   0.002331                 1.719264\n",
      "50 independent variables\n",
      "    in start     in end  out start    out end    in mse   out mse  in mse to out mse ratio\n",
      "0 2011-01-01 2011-12-31 2012-01-01 2012-03-31  0.000954  0.001639                 0.581802\n",
      "1 2011-04-01 2012-03-31 2012-04-01 2012-06-30  0.000952  0.001712                 0.556148\n",
      "2 2011-07-01 2012-06-30 2012-07-01 2012-09-30  0.000963  0.001710                 0.563233\n",
      "3 2011-10-01 2012-09-30 2012-10-01 2012-12-30  0.000964  0.001423                 0.677129\n",
      "4 2012-01-01 2012-12-30 2013-01-01 2013-03-30  0.000776  0.001139                 0.681374\n",
      "5 2012-04-01 2013-03-30 2013-04-01 2013-06-30  0.000763  0.002088                 0.365356\n",
      "6 2012-07-01 2013-06-30 2013-07-01 2013-09-30  0.000825  0.001479                 0.558015\n",
      "7 2012-10-01 2013-09-30 2013-10-01 2013-12-30  0.000852  0.002497                 0.341173\n",
      "8 2013-01-01 2013-12-30 2014-01-01 2014-03-30  0.001180  0.001662                 0.710119\n",
      "9 2013-04-01 2014-03-30 2014-04-01 2014-06-30  0.001237  0.001578                 0.783646\n",
      "          in mse    out mse  in mse to out mse ratio\n",
      "count  10.000000  10.000000                10.000000\n",
      "mean    0.000947   0.001693                 0.581799\n",
      "std     0.000158   0.000372                 0.142411\n",
      "min     0.000763   0.001139                 0.341173\n",
      "25%     0.000832   0.001504                 0.556614\n",
      "50%     0.000953   0.001651                 0.572517\n",
      "75%     0.000963   0.001712                 0.680313\n",
      "max     0.001237   0.002497                 0.783646\n"
     ]
    }
   ],
   "source": [
    "for num_indepd in indepd_set:\n",
    "    indepd_stock = filtered_df['Prev'].to_list()[:num_indepd]\n",
    "    #\n",
    "    train_start_txt = '2011-01-01'\n",
    "    train_end_txt = '2011-12-31'\n",
    "    train_start = datetime.strptime(train_start_txt, '%Y-%m-%d')\n",
    "    train_end = datetime.strptime(train_end_txt, '%Y-%m-%d')\n",
    "    test_start = train_end + relativedelta(days=1)\n",
    "    test_end = train_end + relativedelta(months=3)\n",
    "    #\n",
    "    result_ls = list()\n",
    "    for i in range(0, 10):\n",
    "        train_prevday_returns = prevday_returns[train_start:train_end]\n",
    "        train_today_returns = today_returns[train_start:train_end]\n",
    "        test_prevday_returns = prevday_returns[test_start:test_end]\n",
    "        test_today_returns = today_returns[test_start:test_end]\n",
    "        #\n",
    "        X_train = train_prevday_returns[indepd_stock].copy()\n",
    "        X_train = sm.add_constant(X_train)\n",
    "        y_train = train_today_returns[depd_stock]\n",
    "        model = sm.OLS(y_train, X_train).fit()\n",
    "        #\n",
    "        y_train_pred = model.predict(X_train)\n",
    "        train_mse = mean_squared_error(y_train, y_train_pred)\n",
    "        #\n",
    "        X_test = test_prevday_returns[indepd_stock].copy()\n",
    "        X_test = sm.add_constant(X_test)\n",
    "        y_test = test_today_returns[depd_stock]\n",
    "        y_test_pred = model.predict(X_test)\n",
    "        test_mse = mean_squared_error(y_test, y_test_pred)\n",
    "        #\n",
    "        result = {\n",
    "            'in start' : train_start,\n",
    "            'in end' : train_end,\n",
    "            'out start' : test_start,\n",
    "            'out end' : test_end,\n",
    "            'in mse' : train_mse,\n",
    "            'out mse' : test_mse,\n",
    "            'in mse to out mse ratio' : train_mse / test_mse\n",
    "        }\n",
    "        result_ls.append(result)\n",
    "        #\n",
    "        train_start = train_start + relativedelta(months=3)\n",
    "        train_end = train_end + relativedelta(months=3)\n",
    "        test_start = test_start + relativedelta(months=3)\n",
    "        test_end = test_end + relativedelta(months=3)\n",
    "    print('{} independent variables'.format(len(indepd_stock)))\n",
    "    result_df = pd.DataFrame(result_ls)\n",
    "    with pd.option_context('expand_frame_repr', False):\n",
    "        print(result_df)\n",
    "        print(result_df.describe())"
   ]
  },
  {
   "cell_type": "markdown",
   "metadata": {},
   "source": [
    "### Experiment Training"
   ]
  },
  {
   "cell_type": "code",
   "execution_count": null,
   "metadata": {},
   "outputs": [],
   "source": [
    "depd_stock = \"0952.HK\"\n",
    "indepd_stock = indp_variables\n",
    "train_start = '2011-01-01'\n",
    "train_end = '2011-12-31'\n",
    "train_prevday_returns = prevday_returns[train_start:train_end]\n",
    "train_today_returns = today_returns[train_start:train_end]"
   ]
  },
  {
   "cell_type": "code",
   "execution_count": null,
   "metadata": {
    "scrolled": true
   },
   "outputs": [],
   "source": [
    "X = train_prevday_returns[indepd_stock].copy()\n",
    "X = sm.add_constant(X)\n",
    "y = train_today_returns[depd_stock]\n",
    "model = sm.OLS(y, X).fit()\n",
    "print('Params {:.4f} TValues {:.4f} RSquared {:.4f}'.format(model.params.iloc[1], model.tvalues.iloc[1], model.rsquared))"
   ]
  },
  {
   "cell_type": "code",
   "execution_count": null,
   "metadata": {},
   "outputs": [],
   "source": [
    "model.summary()"
   ]
  },
  {
   "cell_type": "code",
   "execution_count": null,
   "metadata": {},
   "outputs": [],
   "source": [
    "train_predicted = model.predict(X)\n",
    "train_predicted"
   ]
  },
  {
   "cell_type": "code",
   "execution_count": null,
   "metadata": {
    "scrolled": true
   },
   "outputs": [],
   "source": [
    "y.head(10)"
   ]
  },
  {
   "cell_type": "code",
   "execution_count": null,
   "metadata": {},
   "outputs": [],
   "source": [
    "mean_squared_error(y, train_predicted)"
   ]
  },
  {
   "cell_type": "code",
   "execution_count": null,
   "metadata": {},
   "outputs": [],
   "source": [
    "test_start = '2012-01-01'\n",
    "test_end = '2012-03-31'\n",
    "test_prevday_returns = prevday_returns[test_start:test_end]\n",
    "test_today_returns = today_returns[test_start:test_end]"
   ]
  },
  {
   "cell_type": "code",
   "execution_count": null,
   "metadata": {},
   "outputs": [],
   "source": [
    "X_test = test_prevday_returns[indepd_stock].copy()\n",
    "X_test = sm.add_constant(X_test)\n",
    "y_test = test_today_returns[depd_stock]"
   ]
  },
  {
   "cell_type": "code",
   "execution_count": null,
   "metadata": {},
   "outputs": [],
   "source": [
    "test_predicted = model.predict(X_test)\n",
    "test_predicted"
   ]
  },
  {
   "cell_type": "code",
   "execution_count": null,
   "metadata": {},
   "outputs": [],
   "source": [
    "mean_squared_error(y_test, test_predicted)"
   ]
  }
 ],
 "metadata": {
  "kernelspec": {
   "display_name": "Python 3",
   "language": "python",
   "name": "python3"
  },
  "language_info": {
   "codemirror_mode": {
    "name": "ipython",
    "version": 3
   },
   "file_extension": ".py",
   "mimetype": "text/x-python",
   "name": "python",
   "nbconvert_exporter": "python",
   "pygments_lexer": "ipython3",
   "version": "3.7.7"
  }
 },
 "nbformat": 4,
 "nbformat_minor": 2
}
